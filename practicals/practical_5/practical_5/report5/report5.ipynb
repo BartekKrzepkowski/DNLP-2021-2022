{
 "cells": [
  {
   "cell_type": "markdown",
   "id": "e9685a17-dfe1-4cf8-8a69-dd768a6e4652",
   "metadata": {},
   "source": [
    "# Section 2"
   ]
  },
  {
   "cell_type": "markdown",
   "id": "ff6fc8ac-879e-42cb-8614-d5cc7f82e344",
   "metadata": {},
   "source": [
    "## a)"
   ]
  },
  {
   "cell_type": "code",
   "execution_count": 2,
   "id": "8e5ecf6b-25dd-4ec5-8b72-51a3dd05ab41",
   "metadata": {},
   "outputs": [
    {
     "name": "stdout",
     "output_type": "stream",
     "text": [
      "--------------------------------------------------------------------------------\n",
      "All Sanity Checks Passed for Question 1a\n",
      "--------------------------------------------------------------------------------\n"
     ]
    }
   ],
   "source": [
    "!python test_exercises.py --task a"
   ]
  },
  {
   "cell_type": "markdown",
   "id": "9f98d1ca-1c82-4ad0-94f9-f10deda1e5b6",
   "metadata": {},
   "source": [
    "## b)"
   ]
  },
  {
   "cell_type": "code",
   "execution_count": 3,
   "id": "5e3a91fd-41d9-497c-8c1e-191b7a1c67cb",
   "metadata": {},
   "outputs": [
    {
     "name": "stdout",
     "output_type": "stream",
     "text": [
      "--------------------------------------------------------------------------------\n",
      "All Sanity Checks Passed for Question 1b\n",
      "--------------------------------------------------------------------------------\n"
     ]
    }
   ],
   "source": [
    "!python test_exercises.py --task b"
   ]
  },
  {
   "cell_type": "markdown",
   "id": "3ad10fff-c523-4653-8c3d-1a09c477976b",
   "metadata": {},
   "source": [
    "## c)"
   ]
  },
  {
   "cell_type": "code",
   "execution_count": 4,
   "id": "aabb8c5f-51bd-47ec-bd0e-06d56985f91c",
   "metadata": {},
   "outputs": [
    {
     "name": "stdout",
     "output_type": "stream",
     "text": [
      "--------------------------------------------------------------------------------\n",
      "All Sanity Checks Passed for Question 1c\n",
      "--------------------------------------------------------------------------------\n"
     ]
    }
   ],
   "source": [
    "!python test_exercises.py --task c"
   ]
  },
  {
   "cell_type": "markdown",
   "id": "eaf04989-b926-4333-bec8-20e67f492564",
   "metadata": {},
   "source": [
    "## d)"
   ]
  },
  {
   "cell_type": "code",
   "execution_count": 5,
   "id": "e5ecaf3b-1f85-4d6b-84c8-7b5b93d987cb",
   "metadata": {},
   "outputs": [
    {
     "name": "stdout",
     "output_type": "stream",
     "text": [
      "--------------------------------------------------------------------------------\n",
      "All Sanity Checks Passed for Question 1d\n",
      "--------------------------------------------------------------------------------\n"
     ]
    }
   ],
   "source": [
    "!python test_exercises.py --task d"
   ]
  },
  {
   "cell_type": "code",
   "execution_count": 8,
   "id": "95887b2f-673e-427d-80f9-4594973623e4",
   "metadata": {},
   "outputs": [
    {
     "name": "stdout",
     "output_type": "stream",
     "text": [
      "100%|████████████████████████████████████████| 676/676 [00:02<00:00, 311.80it/s]\n",
      "Divide dialogues for separate bits - usr, sys, db, bs\n",
      "100%|███████████████████████████████████████| 676/676 [00:00<00:00, 7724.30it/s]\n",
      "Building dictionaries\n"
     ]
    }
   ],
   "source": [
    "!python create_delex_data.py"
   ]
  },
  {
   "cell_type": "markdown",
   "id": "71c1b83d-9fe1-450a-b0a4-89005b7cc082",
   "metadata": {},
   "source": [
    "## e)"
   ]
  },
  {
   "cell_type": "code",
   "execution_count": 9,
   "id": "f881a32d-bf76-4c6c-a94c-ecc52c840e41",
   "metadata": {},
   "outputs": [
    {
     "name": "stdout",
     "output_type": "stream",
     "text": [
      "/home/bartekkrzepkowski/.virtualenvs/tldl/lib/python3.8/site-packages/torch/nn/modules/rnn.py:62: UserWarning: dropout option adds dropout after all but last recurrent layer, so non-zero dropout expects num_layers greater than 1, but got dropout=0.5 and num_layers=1\n",
      "  warnings.warn(\"dropout option adds dropout after all but last \"\n",
      "/home/bartekkrzepkowski/.virtualenvs/tldl/lib/python3.8/site-packages/torch/nn/_reduction.py:13: UserWarning: reduction='elementwise_mean' is deprecated, please use reduction='mean' instead.\n",
      "  warnings.warn(\"reduction='elementwise_mean' is deprecated, please use reduction='mean' instead.\")\n",
      "/home/bartekkrzepkowski/.virtualenvs/tldl/lib/python3.8/site-packages/torch/autograd/__init__.py:154: UserWarning: CUDA initialization: Unexpected error from cudaGetDeviceCount(). Did you run some cuda functions before calling NumCudaDevices() that might have already set an error? Error 804: forward compatibility was attempted on non supported HW (Triggered internally at  ../c10/cuda/CUDAFunctions.cpp:112.)\n",
      "  Variable._execution_engine.run_backward(\n",
      "TIME: 5.870757579803467\n",
      "Time since 0m 5s  (Epoch:1 6%) Loss: 1.7153, Loss act: 0.0000, Grad: 0.2948\n",
      "Current Valid LOSS: 2.3852003752583206\n",
      "Saving parameters..\n",
      "TIME: 6.110944509506226\n",
      "Time since 0m 12s  (Epoch:2 13%) Loss: 1.1405, Loss act: 0.0000, Grad: 0.2888\n",
      "Current Valid LOSS: 1.9567961933636906\n",
      "Saving parameters..\n",
      "TIME: 5.915693759918213\n",
      "Time since 0m 19s  (Epoch:3 20%) Loss: 0.9738, Loss act: 0.0000, Grad: 0.2742\n",
      "Current Valid LOSS: 1.7616986174776097\n",
      "Saving parameters..\n",
      "TIME: 6.040237903594971\n",
      "Time since 0m 26s  (Epoch:4 26%) Loss: 0.8910, Loss act: 0.0000, Grad: 0.2709\n",
      "Current Valid LOSS: 1.6963045356249569\n",
      "Saving parameters..\n",
      "TIME: 6.0579986572265625\n",
      "Time since 0m 33s  (Epoch:5 33%) Loss: 0.8418, Loss act: 0.0000, Grad: 0.2707\n",
      "Current Valid LOSS: 1.6145229893501358\n",
      "Saving parameters..\n",
      "TIME: 6.097801446914673\n",
      "Time since 0m 40s  (Epoch:6 40%) Loss: 0.7985, Loss act: 0.0000, Grad: 0.2603\n",
      "Current Valid LOSS: 1.6011731883492133\n",
      "Saving parameters..\n",
      "TIME: 6.13787317276001\n",
      "Time since 0m 47s  (Epoch:7 46%) Loss: 0.7826, Loss act: 0.0000, Grad: 0.2701\n",
      "Current Valid LOSS: 1.589971409301565\n",
      "Saving parameters..\n",
      "TIME: 6.025974273681641\n",
      "Time since 0m 54s  (Epoch:8 53%) Loss: 0.7553, Loss act: 0.0000, Grad: 0.2646\n",
      "Current Valid LOSS: 1.530239943302039\n",
      "Saving parameters..\n",
      "TIME: 6.008662462234497\n",
      "Time since 1m 1s  (Epoch:9 60%) Loss: 0.7241, Loss act: 0.0000, Grad: 0.2615\n",
      "Current Valid LOSS: 1.5270946399130003\n",
      "Saving parameters..\n",
      "TIME: 5.902788877487183\n",
      "Time since 1m 7s  (Epoch:10 66%) Loss: 0.7193, Loss act: 0.0000, Grad: 0.2666\n",
      "Current Valid LOSS: 1.5266495684180597\n",
      "Saving parameters..\n",
      "TIME: 5.703863620758057\n",
      "Time since 1m 14s  (Epoch:11 73%) Loss: 0.6757, Loss act: 0.0000, Grad: 0.2455\n",
      "Current Valid LOSS: 1.4920383306464764\n",
      "Saving parameters..\n",
      "TIME: 5.8145432472229\n",
      "Time since 1m 21s  (Epoch:12 80%) Loss: 0.6696, Loss act: 0.0000, Grad: 0.2526\n",
      "Current Valid LOSS: 1.5069397513312524\n",
      "Saving parameters..\n",
      "TIME: 5.95024847984314\n",
      "Time since 1m 27s  (Epoch:13 86%) Loss: 0.6707, Loss act: 0.0000, Grad: 0.2619\n",
      "Current Valid LOSS: 1.4916973685977435\n",
      "Saving parameters..\n",
      "TIME: 5.755149602890015\n",
      "Time since 1m 34s  (Epoch:14 93%) Loss: 0.6511, Loss act: 0.0000, Grad: 0.2543\n",
      "Current Valid LOSS: 1.470550740005994\n",
      "Saving parameters..\n",
      "TIME: 5.6797194480896\n",
      "Time since 1m 40s  (Epoch:15 100%) Loss: 0.6568, Loss act: 0.0000, Grad: 0.2617\n",
      "Current Valid LOSS: 1.4781105126997438\n",
      "Saving parameters..\n"
     ]
    }
   ],
   "source": [
    "!python train.py"
   ]
  },
  {
   "cell_type": "code",
   "execution_count": 10,
   "id": "10f801b1-cef4-46e0-a33d-bcabdad5095f",
   "metadata": {},
   "outputs": [
    {
     "name": "stdout",
     "output_type": "stream",
     "text": [
      "----------------------------------------------------------------------EVALUATING EPOCH 1\n",
      "Loading parameters of iter 1 \n",
      "--------------------------------------------------GREEDY\n",
      "Current VALID LOSS: 0\n",
      "Valid BLUES SCORE 0.1620492232\n",
      "Valid Corpus Matches : 91.92%\n",
      "Valid Corpus Success : 14.14%\n",
      "Valid Total number of dialogues: 99 \n",
      "Current TEST LOSS: 0.0\n",
      "Corpus BLUES SCORE 0.1620701320\n",
      "Corpus Matches : 94.95%\n",
      "Corpus Success : 17.17%\n",
      "Total number of dialogues: 99 \n",
      "--------------------------------------------------BEAM\n",
      "Current VALID LOSS: 0\n",
      "Valid BLUES SCORE 0.1604293020\n",
      "Valid Corpus Matches : 92.93%\n",
      "Valid Corpus Success : 17.17%\n",
      "Valid Total number of dialogues: 99 \n",
      "Current TEST LOSS: 0.0\n",
      "Corpus BLUES SCORE 0.1608058130\n",
      "Corpus Matches : 94.95%\n",
      "Corpus Success : 17.17%\n",
      "Total number of dialogues: 99 \n",
      "TIME: 4.800482511520386\n",
      "----------------------------------------------------------------------EVALUATING EPOCH 2\n",
      "Loading parameters of iter 2 \n",
      "--------------------------------------------------GREEDY\n",
      "Current VALID LOSS: 0\n",
      "Valid BLUES SCORE 0.1576230455\n",
      "Valid Corpus Matches : 94.95%\n",
      "Valid Corpus Success : 40.40%\n",
      "Valid Total number of dialogues: 99 \n",
      "Current TEST LOSS: 0.0\n",
      "Corpus BLUES SCORE 0.1415495384\n",
      "Corpus Matches : 96.97%\n",
      "Corpus Success : 38.38%\n",
      "Total number of dialogues: 99 \n",
      "--------------------------------------------------BEAM\n",
      "Current VALID LOSS: 0\n",
      "Valid BLUES SCORE 0.1833822762\n",
      "Valid Corpus Matches : 95.96%\n",
      "Valid Corpus Success : 34.34%\n",
      "Valid Total number of dialogues: 99 \n",
      "Current TEST LOSS: 0.0\n",
      "Corpus BLUES SCORE 0.1717592011\n",
      "Corpus Matches : 97.98%\n",
      "Corpus Success : 28.28%\n",
      "Total number of dialogues: 99 \n",
      "TIME: 4.793428421020508\n",
      "----------------------------------------------------------------------EVALUATING EPOCH 3\n",
      "Loading parameters of iter 3 \n",
      "--------------------------------------------------GREEDY\n",
      "Current VALID LOSS: 0\n",
      "Valid BLUES SCORE 0.2052241873\n",
      "Valid Corpus Matches : 95.96%\n",
      "Valid Corpus Success : 35.35%\n",
      "Valid Total number of dialogues: 99 \n",
      "Current TEST LOSS: 0.0\n",
      "Corpus BLUES SCORE 0.2024713942\n",
      "Corpus Matches : 98.99%\n",
      "Corpus Success : 33.33%\n",
      "Total number of dialogues: 99 \n",
      "--------------------------------------------------BEAM\n",
      "Current VALID LOSS: 0\n",
      "Valid BLUES SCORE 0.2085193824\n",
      "Valid Corpus Matches : 94.95%\n",
      "Valid Corpus Success : 43.43%\n",
      "Valid Total number of dialogues: 99 \n",
      "Current TEST LOSS: 0.0\n",
      "Corpus BLUES SCORE 0.2099809222\n",
      "Corpus Matches : 97.98%\n",
      "Corpus Success : 43.43%\n",
      "Total number of dialogues: 99 \n",
      "TIME: 5.115163326263428\n",
      "----------------------------------------------------------------------EVALUATING EPOCH 4\n",
      "Loading parameters of iter 4 \n",
      "--------------------------------------------------GREEDY\n",
      "Current VALID LOSS: 0\n",
      "Valid BLUES SCORE 0.2383732472\n",
      "Valid Corpus Matches : 85.86%\n",
      "Valid Corpus Success : 51.52%\n",
      "Valid Total number of dialogues: 99 \n",
      "Current TEST LOSS: 0.0\n",
      "Corpus BLUES SCORE 0.2389163410\n",
      "Corpus Matches : 89.90%\n",
      "Corpus Success : 48.48%\n",
      "Total number of dialogues: 99 \n",
      "--------------------------------------------------BEAM\n",
      "Current VALID LOSS: 0\n",
      "Valid BLUES SCORE 0.2215602350\n",
      "Valid Corpus Matches : 84.85%\n",
      "Valid Corpus Success : 49.49%\n",
      "Valid Total number of dialogues: 99 \n",
      "Current TEST LOSS: 0.0\n",
      "Corpus BLUES SCORE 0.2217036686\n",
      "Corpus Matches : 89.90%\n",
      "Corpus Success : 48.48%\n",
      "Total number of dialogues: 99 \n",
      "TIME: 5.218247890472412\n",
      "----------------------------------------------------------------------EVALUATING EPOCH 5\n",
      "Loading parameters of iter 5 \n",
      "--------------------------------------------------GREEDY\n",
      "Current VALID LOSS: 0\n",
      "Valid BLUES SCORE 0.2413321467\n",
      "Valid Corpus Matches : 89.90%\n",
      "Valid Corpus Success : 55.56%\n",
      "Valid Total number of dialogues: 99 \n",
      "Current TEST LOSS: 0.0\n",
      "Corpus BLUES SCORE 0.2311633850\n",
      "Corpus Matches : 90.91%\n",
      "Corpus Success : 56.57%\n",
      "Total number of dialogues: 99 \n",
      "--------------------------------------------------BEAM\n",
      "Current VALID LOSS: 0\n",
      "Valid BLUES SCORE 0.2261957706\n",
      "Valid Corpus Matches : 90.91%\n",
      "Valid Corpus Success : 61.62%\n",
      "Valid Total number of dialogues: 99 \n",
      "Current TEST LOSS: 0.0\n",
      "Corpus BLUES SCORE 0.2223868217\n",
      "Corpus Matches : 91.92%\n",
      "Corpus Success : 57.58%\n",
      "Total number of dialogues: 99 \n",
      "TIME: 5.397668123245239\n",
      "----------------------------------------------------------------------EVALUATING EPOCH 6\n",
      "Loading parameters of iter 6 \n",
      "--------------------------------------------------GREEDY\n",
      "Current VALID LOSS: 0\n",
      "Valid BLUES SCORE 0.2544313526\n",
      "Valid Corpus Matches : 91.92%\n",
      "Valid Corpus Success : 58.59%\n",
      "Valid Total number of dialogues: 99 \n",
      "Current TEST LOSS: 0.0\n",
      "Corpus BLUES SCORE 0.2456693884\n",
      "Corpus Matches : 88.89%\n",
      "Corpus Success : 49.49%\n",
      "Total number of dialogues: 99 \n",
      "--------------------------------------------------BEAM\n",
      "Current VALID LOSS: 0\n",
      "Valid BLUES SCORE 0.2414425234\n",
      "Valid Corpus Matches : 92.93%\n",
      "Valid Corpus Success : 59.60%\n",
      "Valid Total number of dialogues: 99 \n",
      "Current TEST LOSS: 0.0\n",
      "Corpus BLUES SCORE 0.2329738997\n",
      "Corpus Matches : 88.89%\n",
      "Corpus Success : 49.49%\n",
      "Total number of dialogues: 99 \n",
      "TIME: 5.603682279586792\n",
      "----------------------------------------------------------------------EVALUATING EPOCH 7\n",
      "Loading parameters of iter 7 \n",
      "--------------------------------------------------GREEDY\n",
      "Current VALID LOSS: 0\n",
      "Valid BLUES SCORE 0.2405606733\n",
      "Valid Corpus Matches : 86.87%\n",
      "Valid Corpus Success : 59.60%\n",
      "Valid Total number of dialogues: 99 \n",
      "Current TEST LOSS: 0.0\n",
      "Corpus BLUES SCORE 0.2409945871\n",
      "Corpus Matches : 80.81%\n",
      "Corpus Success : 50.51%\n",
      "Total number of dialogues: 99 \n",
      "--------------------------------------------------BEAM\n",
      "Current VALID LOSS: 0\n",
      "Valid BLUES SCORE 0.2406402174\n",
      "Valid Corpus Matches : 87.88%\n",
      "Valid Corpus Success : 61.62%\n",
      "Valid Total number of dialogues: 99 \n",
      "Current TEST LOSS: 0.0\n",
      "Corpus BLUES SCORE 0.2373580828\n",
      "Corpus Matches : 79.80%\n",
      "Corpus Success : 51.52%\n",
      "Total number of dialogues: 99 \n",
      "TIME: 5.4614973068237305\n",
      "----------------------------------------------------------------------EVALUATING EPOCH 8\n",
      "Loading parameters of iter 8 \n",
      "--------------------------------------------------GREEDY\n",
      "Current VALID LOSS: 0\n",
      "Valid BLUES SCORE 0.2420218545\n",
      "Valid Corpus Matches : 93.94%\n",
      "Valid Corpus Success : 59.60%\n",
      "Valid Total number of dialogues: 99 \n",
      "Current TEST LOSS: 0.0\n",
      "Corpus BLUES SCORE 0.2386269774\n",
      "Corpus Matches : 94.95%\n",
      "Corpus Success : 48.48%\n",
      "Total number of dialogues: 99 \n",
      "--------------------------------------------------BEAM\n",
      "Current VALID LOSS: 0\n",
      "Valid BLUES SCORE 0.2455258820\n",
      "Valid Corpus Matches : 93.94%\n",
      "Valid Corpus Success : 61.62%\n",
      "Valid Total number of dialogues: 99 \n",
      "Current TEST LOSS: 0.0\n",
      "Corpus BLUES SCORE 0.2465355670\n",
      "Corpus Matches : 94.95%\n",
      "Corpus Success : 49.49%\n",
      "Total number of dialogues: 99 \n",
      "TIME: 5.641779899597168\n",
      "----------------------------------------------------------------------EVALUATING EPOCH 9\n",
      "Loading parameters of iter 9 \n",
      "--------------------------------------------------GREEDY\n",
      "Current VALID LOSS: 0\n",
      "Valid BLUES SCORE 0.2269057497\n",
      "Valid Corpus Matches : 94.95%\n",
      "Valid Corpus Success : 58.59%\n",
      "Valid Total number of dialogues: 99 \n",
      "Current TEST LOSS: 0.0\n",
      "Corpus BLUES SCORE 0.2339979653\n",
      "Corpus Matches : 96.97%\n",
      "Corpus Success : 59.60%\n",
      "Total number of dialogues: 99 \n",
      "--------------------------------------------------BEAM\n",
      "Current VALID LOSS: 0\n",
      "Valid BLUES SCORE 0.2257009886\n",
      "Valid Corpus Matches : 96.97%\n",
      "Valid Corpus Success : 60.61%\n",
      "Valid Total number of dialogues: 99 \n",
      "Current TEST LOSS: 0.0\n",
      "Corpus BLUES SCORE 0.2342242765\n",
      "Corpus Matches : 96.97%\n",
      "Corpus Success : 59.60%\n",
      "Total number of dialogues: 99 \n",
      "TIME: 5.379096508026123\n",
      "----------------------------------------------------------------------EVALUATING EPOCH 10\n",
      "Loading parameters of iter 10 \n",
      "--------------------------------------------------GREEDY\n",
      "Current VALID LOSS: 0\n",
      "Valid BLUES SCORE 0.2424803936\n",
      "Valid Corpus Matches : 89.90%\n",
      "Valid Corpus Success : 62.63%\n",
      "Valid Total number of dialogues: 99 \n",
      "Current TEST LOSS: 0.0\n",
      "Corpus BLUES SCORE 0.2263057016\n",
      "Corpus Matches : 88.89%\n",
      "Corpus Success : 55.56%\n",
      "Total number of dialogues: 99 \n",
      "--------------------------------------------------BEAM\n",
      "Current VALID LOSS: 0\n",
      "Valid BLUES SCORE 0.2417426273\n",
      "Valid Corpus Matches : 89.90%\n",
      "Valid Corpus Success : 60.61%\n",
      "Valid Total number of dialogues: 99 \n",
      "Current TEST LOSS: 0.0\n",
      "Corpus BLUES SCORE 0.2267145840\n",
      "Corpus Matches : 89.90%\n",
      "Corpus Success : 57.58%\n",
      "Total number of dialogues: 99 \n",
      "TIME: 5.916480541229248\n"
     ]
    }
   ],
   "source": [
    "!python test.py"
   ]
  },
  {
   "cell_type": "markdown",
   "id": "c9a66a48-89a6-4c9a-b630-df61c8deba1c",
   "metadata": {},
   "source": [
    "## f)"
   ]
  },
  {
   "cell_type": "code",
   "execution_count": 12,
   "id": "44a3a88c-e5ff-420b-bb17-e409b8453129",
   "metadata": {},
   "outputs": [
    {
     "name": "stdout",
     "output_type": "stream",
     "text": [
      "--------------------------------------------------------------------------------\n",
      "All Sanity Checks Passed for Question 1f\n",
      "--------------------------------------------------------------------------------\n"
     ]
    }
   ],
   "source": [
    "!python test_exercises.py --task f"
   ]
  },
  {
   "cell_type": "code",
   "execution_count": 13,
   "id": "e2058b43-85a5-4263-b800-312173b47551",
   "metadata": {},
   "outputs": [
    {
     "name": "stdout",
     "output_type": "stream",
     "text": [
      "/home/bartekkrzepkowski/.virtualenvs/tldl/lib/python3.8/site-packages/torch/nn/modules/rnn.py:62: UserWarning: dropout option adds dropout after all but last recurrent layer, so non-zero dropout expects num_layers greater than 1, but got dropout=0.5 and num_layers=1\n",
      "  warnings.warn(\"dropout option adds dropout after all but last \"\n",
      "/home/bartekkrzepkowski/.virtualenvs/tldl/lib/python3.8/site-packages/torch/nn/_reduction.py:13: UserWarning: reduction='elementwise_mean' is deprecated, please use reduction='mean' instead.\n",
      "  warnings.warn(\"reduction='elementwise_mean' is deprecated, please use reduction='mean' instead.\")\n",
      "/home/bartekkrzepkowski/.virtualenvs/tldl/lib/python3.8/site-packages/torch/autograd/__init__.py:154: UserWarning: CUDA initialization: Unexpected error from cudaGetDeviceCount(). Did you run some cuda functions before calling NumCudaDevices() that might have already set an error? Error 804: forward compatibility was attempted on non supported HW (Triggered internally at  ../c10/cuda/CUDAFunctions.cpp:112.)\n",
      "  Variable._execution_engine.run_backward(\n",
      "TIME: 5.648998022079468\n",
      "Time since 0m 5s  (Epoch:1 6%) Loss: 1.7846, Loss act: 0.0000, Grad: 0.2600\n",
      "Current Valid LOSS: 2.5551024278004966\n",
      "Saving parameters..\n",
      "TIME: 5.965641975402832\n",
      "Time since 0m 12s  (Epoch:2 13%) Loss: 1.1728, Loss act: 0.0000, Grad: 0.2405\n",
      "Current Valid LOSS: 2.0548717915409744\n",
      "Saving parameters..\n",
      "TIME: 5.968292713165283\n",
      "Time since 0m 19s  (Epoch:3 20%) Loss: 1.0208, Loss act: 0.0000, Grad: 0.2407\n",
      "Current Valid LOSS: 1.8768126928445064\n",
      "Saving parameters..\n",
      "TIME: 6.180105209350586\n",
      "Time since 0m 26s  (Epoch:4 26%) Loss: 0.9220, Loss act: 0.0000, Grad: 0.2305\n",
      "Current Valid LOSS: 1.7356831244748048\n",
      "Saving parameters..\n",
      "TIME: 5.961986064910889\n",
      "Time since 0m 33s  (Epoch:5 33%) Loss: 0.8769, Loss act: 0.0000, Grad: 0.2378\n",
      "Current Valid LOSS: 1.6786734810983293\n",
      "Saving parameters..\n",
      "TIME: 5.866020917892456\n",
      "Time since 0m 39s  (Epoch:6 40%) Loss: 0.8259, Loss act: 0.0000, Grad: 0.2271\n",
      "Current Valid LOSS: 1.6384187364819074\n",
      "Saving parameters..\n",
      "TIME: 5.827728271484375\n",
      "Time since 0m 46s  (Epoch:7 46%) Loss: 0.8118, Loss act: 0.0000, Grad: 0.2335\n",
      "Current Valid LOSS: 1.5998717137057372\n",
      "Saving parameters..\n",
      "TIME: 5.85890531539917\n",
      "Time since 0m 53s  (Epoch:8 53%) Loss: 0.7724, Loss act: 0.0000, Grad: 0.2279\n",
      "Current Valid LOSS: 1.5880384427128416\n",
      "Saving parameters..\n",
      "TIME: 5.781813144683838\n",
      "Time since 0m 59s  (Epoch:9 60%) Loss: 0.7655, Loss act: 0.0000, Grad: 0.2342\n",
      "Current Valid LOSS: 1.5975168654412935\n",
      "Saving parameters..\n",
      "TIME: 5.916431665420532\n",
      "Time since 1m 6s  (Epoch:10 66%) Loss: 0.7302, Loss act: 0.0000, Grad: 0.2259\n",
      "Current Valid LOSS: 1.556223330473659\n",
      "Saving parameters..\n",
      "TIME: 5.915537595748901\n",
      "Time since 1m 13s  (Epoch:11 73%) Loss: 0.7306, Loss act: 0.0000, Grad: 0.2320\n",
      "Current Valid LOSS: 1.543179239287521\n",
      "Saving parameters..\n",
      "TIME: 5.7151734828948975\n",
      "Time since 1m 19s  (Epoch:12 80%) Loss: 0.7046, Loss act: 0.0000, Grad: 0.2261\n",
      "Current Valid LOSS: 1.53846617900964\n",
      "Saving parameters..\n",
      "TIME: 5.8653693199157715\n",
      "Time since 1m 26s  (Epoch:13 86%) Loss: 0.7001, Loss act: 0.0000, Grad: 0.2281\n",
      "Current Valid LOSS: 1.521806406252312\n",
      "Saving parameters..\n",
      "TIME: 5.880264043807983\n",
      "Time since 1m 33s  (Epoch:14 93%) Loss: 0.6795, Loss act: 0.0000, Grad: 0.2268\n",
      "Current Valid LOSS: 1.5003705939861258\n",
      "Saving parameters..\n",
      "TIME: 5.928724527359009\n",
      "Time since 1m 40s  (Epoch:15 100%) Loss: 0.6835, Loss act: 0.0000, Grad: 0.2332\n",
      "Current Valid LOSS: 1.5129750214441857\n",
      "Saving parameters..\n"
     ]
    }
   ],
   "source": [
    "!python train.py --policy softmax"
   ]
  },
  {
   "cell_type": "code",
   "execution_count": 14,
   "id": "891eefea-cd6d-4c84-a111-f2ef432c9bf8",
   "metadata": {},
   "outputs": [
    {
     "name": "stdout",
     "output_type": "stream",
     "text": [
      "----------------------------------------------------------------------EVALUATING EPOCH 1\n",
      "Loading parameters of iter 1 \n",
      "--------------------------------------------------GREEDY\n",
      "Current VALID LOSS: 0\n",
      "Valid BLUES SCORE 0.1383103428\n",
      "Valid Corpus Matches : 93.94%\n",
      "Valid Corpus Success : 25.25%\n",
      "Valid Total number of dialogues: 99 \n",
      "Current TEST LOSS: 0.0\n",
      "Corpus BLUES SCORE 0.1429656873\n",
      "Corpus Matches : 98.99%\n",
      "Corpus Success : 19.19%\n",
      "Total number of dialogues: 99 \n",
      "--------------------------------------------------BEAM\n",
      "Current VALID LOSS: 0\n",
      "Valid BLUES SCORE 0.1397172155\n",
      "Valid Corpus Matches : 93.94%\n",
      "Valid Corpus Success : 26.26%\n",
      "Valid Total number of dialogues: 99 \n",
      "Current TEST LOSS: 0.0\n",
      "Corpus BLUES SCORE 0.1434101806\n",
      "Corpus Matches : 98.99%\n",
      "Corpus Success : 21.21%\n",
      "Total number of dialogues: 99 \n",
      "TIME: 4.581099033355713\n",
      "----------------------------------------------------------------------EVALUATING EPOCH 2\n",
      "Loading parameters of iter 2 \n",
      "--------------------------------------------------GREEDY\n",
      "Current VALID LOSS: 0\n",
      "Valid BLUES SCORE 0.1810469610\n",
      "Valid Corpus Matches : 92.93%\n",
      "Valid Corpus Success : 26.26%\n",
      "Valid Total number of dialogues: 99 \n",
      "Current TEST LOSS: 0.0\n",
      "Corpus BLUES SCORE 0.1876890221\n",
      "Corpus Matches : 94.95%\n",
      "Corpus Success : 23.23%\n",
      "Total number of dialogues: 99 \n",
      "--------------------------------------------------BEAM\n",
      "Current VALID LOSS: 0\n",
      "Valid BLUES SCORE 0.1642797704\n",
      "Valid Corpus Matches : 94.95%\n",
      "Valid Corpus Success : 26.26%\n",
      "Valid Total number of dialogues: 99 \n",
      "Current TEST LOSS: 0.0\n",
      "Corpus BLUES SCORE 0.1684697078\n",
      "Corpus Matches : 94.95%\n",
      "Corpus Success : 24.24%\n",
      "Total number of dialogues: 99 \n",
      "TIME: 5.235596418380737\n",
      "----------------------------------------------------------------------EVALUATING EPOCH 3\n",
      "Loading parameters of iter 3 \n",
      "--------------------------------------------------GREEDY\n",
      "Current VALID LOSS: 0\n",
      "Valid BLUES SCORE 0.1766812311\n",
      "Valid Corpus Matches : 94.95%\n",
      "Valid Corpus Success : 26.26%\n",
      "Valid Total number of dialogues: 99 \n",
      "Current TEST LOSS: 0.0\n",
      "Corpus BLUES SCORE 0.1779236046\n",
      "Corpus Matches : 96.97%\n",
      "Corpus Success : 20.20%\n",
      "Total number of dialogues: 99 \n",
      "--------------------------------------------------BEAM\n",
      "Current VALID LOSS: 0\n",
      "Valid BLUES SCORE 0.1720039532\n",
      "Valid Corpus Matches : 94.95%\n",
      "Valid Corpus Success : 25.25%\n",
      "Valid Total number of dialogues: 99 \n",
      "Current TEST LOSS: 0.0\n",
      "Corpus BLUES SCORE 0.1743266083\n",
      "Corpus Matches : 96.97%\n",
      "Corpus Success : 19.19%\n",
      "Total number of dialogues: 99 \n",
      "TIME: 5.090910911560059\n",
      "----------------------------------------------------------------------EVALUATING EPOCH 4\n",
      "Loading parameters of iter 4 \n",
      "--------------------------------------------------GREEDY\n",
      "Current VALID LOSS: 0\n",
      "Valid BLUES SCORE 0.2177101543\n",
      "Valid Corpus Matches : 90.91%\n",
      "Valid Corpus Success : 33.33%\n",
      "Valid Total number of dialogues: 99 \n",
      "Current TEST LOSS: 0.0\n",
      "Corpus BLUES SCORE 0.2188095138\n",
      "Corpus Matches : 92.93%\n",
      "Corpus Success : 27.27%\n",
      "Total number of dialogues: 99 \n",
      "--------------------------------------------------BEAM\n",
      "Current VALID LOSS: 0\n",
      "Valid BLUES SCORE 0.2062665785\n",
      "Valid Corpus Matches : 90.91%\n",
      "Valid Corpus Success : 38.38%\n",
      "Valid Total number of dialogues: 99 \n",
      "Current TEST LOSS: 0.0\n",
      "Corpus BLUES SCORE 0.2044051715\n",
      "Corpus Matches : 91.92%\n",
      "Corpus Success : 33.33%\n",
      "Total number of dialogues: 99 \n",
      "TIME: 5.594731092453003\n",
      "----------------------------------------------------------------------EVALUATING EPOCH 5\n",
      "Loading parameters of iter 5 \n",
      "--------------------------------------------------GREEDY\n",
      "Current VALID LOSS: 0\n",
      "Valid BLUES SCORE 0.2335345801\n",
      "Valid Corpus Matches : 74.75%\n",
      "Valid Corpus Success : 37.37%\n",
      "Valid Total number of dialogues: 99 \n",
      "Current TEST LOSS: 0.0\n",
      "Corpus BLUES SCORE 0.2232076849\n",
      "Corpus Matches : 69.70%\n",
      "Corpus Success : 35.35%\n",
      "Total number of dialogues: 99 \n",
      "--------------------------------------------------BEAM\n",
      "Current VALID LOSS: 0\n",
      "Valid BLUES SCORE 0.2153843763\n",
      "Valid Corpus Matches : 74.75%\n",
      "Valid Corpus Success : 41.41%\n",
      "Valid Total number of dialogues: 99 \n",
      "Current TEST LOSS: 0.0\n",
      "Corpus BLUES SCORE 0.2130434566\n",
      "Corpus Matches : 69.70%\n",
      "Corpus Success : 39.39%\n",
      "Total number of dialogues: 99 \n",
      "TIME: 5.231329441070557\n",
      "----------------------------------------------------------------------EVALUATING EPOCH 6\n",
      "Loading parameters of iter 6 \n",
      "--------------------------------------------------GREEDY\n",
      "Current VALID LOSS: 0\n",
      "Valid BLUES SCORE 0.2340843385\n",
      "Valid Corpus Matches : 94.95%\n",
      "Valid Corpus Success : 57.58%\n",
      "Valid Total number of dialogues: 99 \n",
      "Current TEST LOSS: 0.0\n",
      "Corpus BLUES SCORE 0.2294264891\n",
      "Corpus Matches : 92.93%\n",
      "Corpus Success : 42.42%\n",
      "Total number of dialogues: 99 \n",
      "--------------------------------------------------BEAM\n",
      "Current VALID LOSS: 0\n",
      "Valid BLUES SCORE 0.2213113940\n",
      "Valid Corpus Matches : 94.95%\n",
      "Valid Corpus Success : 58.59%\n",
      "Valid Total number of dialogues: 99 \n",
      "Current TEST LOSS: 0.0\n",
      "Corpus BLUES SCORE 0.2193206248\n",
      "Corpus Matches : 92.93%\n",
      "Corpus Success : 47.47%\n",
      "Total number of dialogues: 99 \n",
      "TIME: 5.447213888168335\n",
      "----------------------------------------------------------------------EVALUATING EPOCH 7\n",
      "Loading parameters of iter 7 \n",
      "--------------------------------------------------GREEDY\n",
      "Current VALID LOSS: 0\n",
      "Valid BLUES SCORE 0.2165796867\n",
      "Valid Corpus Matches : 93.94%\n",
      "Valid Corpus Success : 61.62%\n",
      "Valid Total number of dialogues: 99 \n",
      "Current TEST LOSS: 0.0\n",
      "Corpus BLUES SCORE 0.2042940117\n",
      "Corpus Matches : 88.89%\n",
      "Corpus Success : 46.46%\n",
      "Total number of dialogues: 99 \n",
      "--------------------------------------------------BEAM\n",
      "Current VALID LOSS: 0\n",
      "Valid BLUES SCORE 0.2105360686\n",
      "Valid Corpus Matches : 94.95%\n",
      "Valid Corpus Success : 63.64%\n",
      "Valid Total number of dialogues: 99 \n",
      "Current TEST LOSS: 0.0\n",
      "Corpus BLUES SCORE 0.2032261529\n",
      "Corpus Matches : 89.90%\n",
      "Corpus Success : 48.48%\n",
      "Total number of dialogues: 99 \n",
      "TIME: 4.961010694503784\n",
      "----------------------------------------------------------------------EVALUATING EPOCH 8\n",
      "Loading parameters of iter 8 \n",
      "--------------------------------------------------GREEDY\n",
      "Current VALID LOSS: 0\n",
      "Valid BLUES SCORE 0.2346530946\n",
      "Valid Corpus Matches : 92.93%\n",
      "Valid Corpus Success : 66.67%\n",
      "Valid Total number of dialogues: 99 \n",
      "Current TEST LOSS: 0.0\n",
      "Corpus BLUES SCORE 0.2265645311\n",
      "Corpus Matches : 93.94%\n",
      "Corpus Success : 55.56%\n",
      "Total number of dialogues: 99 \n",
      "--------------------------------------------------BEAM\n",
      "Current VALID LOSS: 0\n",
      "Valid BLUES SCORE 0.2313590721\n",
      "Valid Corpus Matches : 92.93%\n",
      "Valid Corpus Success : 66.67%\n",
      "Valid Total number of dialogues: 99 \n",
      "Current TEST LOSS: 0.0\n",
      "Corpus BLUES SCORE 0.2243754772\n",
      "Corpus Matches : 93.94%\n",
      "Corpus Success : 56.57%\n",
      "Total number of dialogues: 99 \n",
      "TIME: 5.375802993774414\n",
      "----------------------------------------------------------------------EVALUATING EPOCH 9\n",
      "Loading parameters of iter 9 \n",
      "--------------------------------------------------GREEDY\n",
      "Current VALID LOSS: 0\n",
      "Valid BLUES SCORE 0.2356869949\n",
      "Valid Corpus Matches : 90.91%\n",
      "Valid Corpus Success : 62.63%\n",
      "Valid Total number of dialogues: 99 \n",
      "Current TEST LOSS: 0.0\n",
      "Corpus BLUES SCORE 0.2232460025\n",
      "Corpus Matches : 87.88%\n",
      "Corpus Success : 44.44%\n",
      "Total number of dialogues: 99 \n",
      "--------------------------------------------------BEAM\n",
      "Current VALID LOSS: 0\n",
      "Valid BLUES SCORE 0.2354391154\n",
      "Valid Corpus Matches : 87.88%\n",
      "Valid Corpus Success : 59.60%\n",
      "Valid Total number of dialogues: 99 \n",
      "Current TEST LOSS: 0.0\n",
      "Corpus BLUES SCORE 0.2228322665\n",
      "Corpus Matches : 86.87%\n",
      "Corpus Success : 45.45%\n",
      "Total number of dialogues: 99 \n",
      "TIME: 5.07258415222168\n",
      "----------------------------------------------------------------------EVALUATING EPOCH 10\n",
      "Loading parameters of iter 10 \n",
      "--------------------------------------------------GREEDY\n",
      "Current VALID LOSS: 0\n",
      "Valid BLUES SCORE 0.2464078215\n",
      "Valid Corpus Matches : 90.91%\n",
      "Valid Corpus Success : 62.63%\n",
      "Valid Total number of dialogues: 99 \n",
      "Current TEST LOSS: 0.0\n",
      "Corpus BLUES SCORE 0.2309499611\n",
      "Corpus Matches : 84.85%\n",
      "Corpus Success : 45.45%\n",
      "Total number of dialogues: 99 \n",
      "--------------------------------------------------BEAM\n",
      "Current VALID LOSS: 0\n",
      "Valid BLUES SCORE 0.2466948930\n",
      "Valid Corpus Matches : 92.93%\n",
      "Valid Corpus Success : 64.65%\n",
      "Valid Total number of dialogues: 99 \n",
      "Current TEST LOSS: 0.0\n",
      "Corpus BLUES SCORE 0.2256175151\n",
      "Corpus Matches : 84.85%\n",
      "Corpus Success : 45.45%\n",
      "Total number of dialogues: 99 \n",
      "TIME: 5.63806939125061\n"
     ]
    }
   ],
   "source": [
    "!python test.py"
   ]
  },
  {
   "cell_type": "markdown",
   "id": "71eb2752-ca5a-48a3-bb9f-55c9de54bd0c",
   "metadata": {},
   "source": [
    "In my case, the policysoftmax approach made each measure worse."
   ]
  },
  {
   "cell_type": "markdown",
   "id": "030b2dba-c8c8-4def-bc1a-097cdaeedb66",
   "metadata": {},
   "source": [
    "# Section 3"
   ]
  },
  {
   "cell_type": "markdown",
   "id": "c35f3b1c-6b6e-4b56-b2bc-97f4bc5d02bd",
   "metadata": {},
   "source": [
    "## b)"
   ]
  },
  {
   "cell_type": "markdown",
   "id": "24a18953-3689-44e5-aeac-8dfe55d863b2",
   "metadata": {
    "tags": []
   },
   "source": [
    "#### What do you think of using a BLEU score as a way to evaluate dialogue systems? Can you evaluate the model only relying on this metric?"
   ]
  },
  {
   "cell_type": "markdown",
   "id": "d15bcaf7-a3ec-4841-98e4-03b4bd7d2b87",
   "metadata": {},
   "source": [
    "Just as it is not a measure appropriate for linguistic models, it is also not a measure appropriate for dialogue systems because it does not catch when other possible equivalent statements are used that may not appear in the model statements. The measure also does not catch the context that is spread over time, where some object to which the interlocutor refers may be mentioned many sentences earlier during the conversation."
   ]
  },
  {
   "cell_type": "markdown",
   "id": "a5973611-291e-4aa4-b5aa-a4281b702848",
   "metadata": {},
   "source": [
    "## c)"
   ]
  },
  {
   "cell_type": "markdown",
   "id": "d6bce238-42ed-4900-8481-2995395de0cb",
   "metadata": {},
   "source": [
    "#### How many parameters does the model consists of? How many dialogues and turns are used to the train the model? Do you see a problem with the ratio of parameters versus the data? In 4-5 sentences explain what challenges this imbalanced ratio can pose."
   ]
  },
  {
   "cell_type": "code",
   "execution_count": 21,
   "id": "c577eca1-883a-48b3-831c-ad15b064430d",
   "metadata": {},
   "outputs": [
    {
     "name": "stdout",
     "output_type": "stream",
     "text": [
      "/home/bartekkrzepkowski/.virtualenvs/tldl/lib/python3.8/site-packages/torch/nn/modules/rnn.py:62: UserWarning: dropout option adds dropout after all but last recurrent layer, so non-zero dropout expects num_layers greater than 1, but got dropout=0.5 and num_layers=1\n",
      "  warnings.warn(\"dropout option adds dropout after all but last \"\n",
      "Number of parameters:  104950\n"
     ]
    }
   ],
   "source": [
    "!python train.py"
   ]
  },
  {
   "cell_type": "markdown",
   "id": "103041d6-a2cc-4841-9ea5-d3870d3b0a90",
   "metadata": {},
   "source": [
    "In general, as in any other department of machine learning, the excess of parameters can lead to overfitting, i.e. in this case, to uttering the learned sequence of words in response to a specific context, without the possibility of modulating the result. On the other hand, the excess of data can lead to a completely non-functional model which, due to the large number of words and the inability to identify which phrases are close to each other, will consider them orthogonal to each other."
   ]
  },
  {
   "cell_type": "markdown",
   "id": "c215cbec-7d9d-4fda-8859-724abd8c6302",
   "metadata": {},
   "source": [
    "## d)"
   ]
  },
  {
   "cell_type": "markdown",
   "id": "9122ef9c-3c71-441b-bc0e-21af6917d562",
   "metadata": {},
   "source": [
    "#### Most of task-oriented dialogue datasets are not larger than 1000 − 10000 dialogues. There are few datasets with speech layer. In 5−8 sentences explain why data collection for task-oriented conversations is difficult?"
   ]
  },
  {
   "cell_type": "markdown",
   "id": "ce8d9bb0-1d01-40d8-8cd2-c3032754c0d1",
   "metadata": {},
   "source": [
    "It is hard to collect data from person-to-person conversations so that it sounds natural and concise at the same time. On the one hand, we want such a conversation to take into account the freedom of expression, so that synthetic inventing such a conversation easily leads to an unnatural course of the conversation. On the other hand, we want our model not to be based on additional parts of statements that often accompany even the most specific exchange of views. Therefore, it is difficult to define what can be included in the model dialogue of people."
   ]
  },
  {
   "cell_type": "markdown",
   "id": "538043bc-a8ba-4126-a4ed-7cf05c5240e8",
   "metadata": {},
   "source": [
    "## e)"
   ]
  },
  {
   "cell_type": "markdown",
   "id": "3e820fc9-3b23-4486-a8fe-b9aa4590a2ca",
   "metadata": {},
   "source": [
    "#### In our lectures we discussed pre-training as a cornerstone of modern NLP systems. What kind of pre-training could be used to improved task-oriented dialogues? What kind of resources, datasets could be utilized. Explain in 4-7 sentences."
   ]
  },
  {
   "cell_type": "markdown",
   "id": "6c107b54-dcfe-497b-af25-7374698df4aa",
   "metadata": {},
   "source": [
    "It can be the same training to predict the next word or mask words to learn the internal structure of a language. It may also be a joint masking task of words and parts of pictures in an picture description task. Such multimodal tasks can deepen the knowledge of language use in the environment, which can be helpful in task-oriented dialogues. Especially when we know what task our dialogue system is to be used for, then we can select appropriate auxiliary tasks, using a different modality in order to enrich those features that can help in the final task."
   ]
  },
  {
   "cell_type": "code",
   "execution_count": null,
   "id": "8107b08d-57ef-49a1-8524-3dab935ed3e0",
   "metadata": {},
   "outputs": [],
   "source": []
  }
 ],
 "metadata": {
  "kernelspec": {
   "display_name": "tldl",
   "language": "python",
   "name": "tldl"
  },
  "language_info": {
   "codemirror_mode": {
    "name": "ipython",
    "version": 3
   },
   "file_extension": ".py",
   "mimetype": "text/x-python",
   "name": "python",
   "nbconvert_exporter": "python",
   "pygments_lexer": "ipython3",
   "version": "3.8.10"
  }
 },
 "nbformat": 4,
 "nbformat_minor": 5
}
