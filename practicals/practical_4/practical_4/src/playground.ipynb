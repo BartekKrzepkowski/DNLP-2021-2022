{
 "cells": [
  {
   "cell_type": "code",
   "execution_count": 1,
   "id": "8389bf8f-634f-42e4-8f8f-7e3d0d7cdd8b",
   "metadata": {},
   "outputs": [
    {
     "data": {
      "text/plain": [
       "'⁇'"
      ]
     },
     "execution_count": 1,
     "metadata": {},
     "output_type": "execute_result"
    }
   ],
   "source": [
    "u\"\\u2047\""
   ]
  },
  {
   "cell_type": "code",
   "execution_count": 2,
   "id": "8822e472-4aa0-4f26-9e5f-03798bd370d0",
   "metadata": {},
   "outputs": [
    {
     "data": {
      "text/plain": [
       "'□'"
      ]
     },
     "execution_count": 2,
     "metadata": {},
     "output_type": "execute_result"
    }
   ],
   "source": [
    "u\"\\u25A1\""
   ]
  },
  {
   "cell_type": "code",
   "execution_count": 3,
   "id": "033ac256-f703-432a-956d-e55090d9456f",
   "metadata": {},
   "outputs": [],
   "source": [
    "import torch"
   ]
  },
  {
   "cell_type": "code",
   "execution_count": 7,
   "id": "93f9886e-e389-4945-81f6-6056dd4c8985",
   "metadata": {},
   "outputs": [
    {
     "name": "stderr",
     "output_type": "stream",
     "text": [
      "/home/bartekkrzepkowski/.virtualenvs/tldl/lib/python3.8/site-packages/torch/cuda/__init__.py:80: UserWarning: CUDA initialization: CUDA unknown error - this may be due to an incorrectly set up environment, e.g. changing env variable CUDA_VISIBLE_DEVICES after program start. Setting the available devices to be zero. (Triggered internally at  ../c10/cuda/CUDAFunctions.cpp:112.)\n",
      "  return torch._C._cuda_getDeviceCount() > 0\n"
     ]
    },
    {
     "data": {
      "text/plain": [
       "False"
      ]
     },
     "execution_count": 7,
     "metadata": {},
     "output_type": "execute_result"
    }
   ],
   "source": [
    "torch.cuda.is_available()"
   ]
  },
  {
   "cell_type": "code",
   "execution_count": 2,
   "id": "90ec2720-bb4f-4c71-8ac5-37ab980c140b",
   "metadata": {},
   "outputs": [],
   "source": [
    "from dataset import CharCorruptionDataset"
   ]
  },
  {
   "cell_type": "code",
   "execution_count": 3,
   "id": "1acafc15-f94e-4e65-9161-d182bb88fec0",
   "metadata": {},
   "outputs": [
    {
     "name": "stdout",
     "output_type": "stream",
     "text": [
      "data has 418352 characters, 256 unique.\n"
     ]
    }
   ],
   "source": [
    "block_size = 128\n",
    "text = open('../wiki.txt').read()\n",
    "pretrain_dataset = CharCorruptionDataset(text, block_size)"
   ]
  },
  {
   "cell_type": "code",
   "execution_count": 4,
   "id": "4252a3a8-fafe-4d72-a3f0-47d611c47c52",
   "metadata": {},
   "outputs": [],
   "source": [
    "for i, text in enumerate(pretrain_dataset.data):\n",
    "    if len(text) < 5:\n",
    "        print(i)"
   ]
  },
  {
   "cell_type": "code",
   "execution_count": null,
   "id": "3c0566db-f6f2-47b0-a86a-b82ace88e167",
   "metadata": {},
   "outputs": [],
   "source": []
  }
 ],
 "metadata": {
  "kernelspec": {
   "display_name": "tldl",
   "language": "python",
   "name": "tldl"
  },
  "language_info": {
   "codemirror_mode": {
    "name": "ipython",
    "version": 3
   },
   "file_extension": ".py",
   "mimetype": "text/x-python",
   "name": "python",
   "nbconvert_exporter": "python",
   "pygments_lexer": "ipython3",
   "version": "3.8.10"
  }
 },
 "nbformat": 4,
 "nbformat_minor": 5
}
