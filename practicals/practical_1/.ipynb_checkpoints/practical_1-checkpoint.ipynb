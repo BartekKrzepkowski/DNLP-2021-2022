{
 "cells": [
  {
   "cell_type": "code",
   "execution_count": 1,
   "id": "sporting-majority",
   "metadata": {},
   "outputs": [],
   "source": [
    "%load_ext autoreload\n",
    "%autoreload 2"
   ]
  },
  {
   "cell_type": "code",
   "execution_count": null,
   "id": "primary-lying",
   "metadata": {},
   "outputs": [],
   "source": [
    "!pip install adjustText"
   ]
  },
  {
   "cell_type": "code",
   "execution_count": 2,
   "id": "mounted-fiction",
   "metadata": {},
   "outputs": [],
   "source": [
    "from gensim.models import KeyedVectors\n",
    "import numpy as np"
   ]
  },
  {
   "cell_type": "markdown",
   "id": "formed-portable",
   "metadata": {},
   "source": [
    "# Section 1"
   ]
  },
  {
   "cell_type": "code",
   "execution_count": 3,
   "id": "occasional-increase",
   "metadata": {},
   "outputs": [
    {
     "name": "stderr",
     "output_type": "stream",
     "text": [
      "[nltk_data] Downloading package reuters to\n",
      "[nltk_data]     /home/bartekkrzepkowski/nltk_data...\n",
      "[nltk_data]   Package reuters is already up-to-date!\n",
      "[nltk_data] Downloading package pl196x to\n",
      "[nltk_data]     /home/bartekkrzepkowski/nltk_data...\n",
      "[nltk_data]   Package pl196x is already up-to-date!\n"
     ]
    }
   ],
   "source": [
    "from practical_1 import distinct_words, compute_co_occurrence_matrix, reduce_to_k_dim, plot_embeddings, read_corpus_pl, plot_unnormalized, plot_normalized"
   ]
  },
  {
   "cell_type": "markdown",
   "id": "stone-institute",
   "metadata": {},
   "source": [
    "## a)"
   ]
  },
  {
   "cell_type": "code",
   "execution_count": 4,
   "id": "arbitrary-breakfast",
   "metadata": {},
   "outputs": [
    {
     "name": "stdout",
     "output_type": "stream",
     "text": [
      "--------------------------------------------------------------------------------\n",
      "Passed All Tests!\n",
      "--------------------------------------------------------------------------------\n"
     ]
    }
   ],
   "source": [
    "# Define toy corpus\n",
    "test_corpus = [\"START Ala miec kot i pies END\".split(\" \"),\n",
    "               \"START Ala lubic kot END\".split(\" \")]     \n",
    "test_corpus_words, num_corpus_words = distinct_words(test_corpus)\n",
    "\n",
    "# Correct answers\n",
    "ans_test_corpus_words = sorted(list(set([\n",
    "    'Ala', 'END', 'START', 'i', 'kot', 'lubic', 'miec', 'pies'])))\n",
    "ans_num_corpus_words = len(ans_test_corpus_words)\n",
    "\n",
    "# Test correct number of words\n",
    "assert(num_corpus_words == ans_num_corpus_words), \"Incorrect number of distinct words. Correct: {}. Yours: {}\".format(ans_num_corpus_words, num_corpus_words)\n",
    "\n",
    "# Test correct words\n",
    "assert (test_corpus_words == ans_test_corpus_words), \"Incorrect corpus_words.\\nCorrect: {}\\nYours:   {}\".format(str(ans_test_corpus_words), str(test_corpus_words))\n",
    "\n",
    "# Print Success\n",
    "print (\"-\" * 80)\n",
    "print(\"Passed All Tests!\")\n",
    "print (\"-\" * 80)"
   ]
  },
  {
   "cell_type": "markdown",
   "id": "unable-recruitment",
   "metadata": {},
   "source": [
    "## b)"
   ]
  },
  {
   "cell_type": "code",
   "execution_count": 5,
   "id": "legal-wound",
   "metadata": {},
   "outputs": [
    {
     "name": "stdout",
     "output_type": "stream",
     "text": [
      "--------------------------------------------------------------------------------\n",
      "Passed All Tests!\n",
      "--------------------------------------------------------------------------------\n"
     ]
    }
   ],
   "source": [
    "# Define toy corpus and get student's co-occurrence matrix\n",
    "test_corpus = [\"START Ala miec kot i pies END\".split(\" \"),\n",
    "               \"START Ala lubic kot END\".split(\" \")]     \n",
    "M_test, word2Ind_test = compute_co_occurrence_matrix(\n",
    "    test_corpus, window_size=1)\n",
    "\n",
    "# Correct M and word2Ind\n",
    "M_test_ans = np.array([\n",
    "    [0., 0., 2., 0., 0., 1., 1., 0.],\n",
    "    [0., 0., 0., 0., 1., 0., 0., 1.],\n",
    "    [2., 0., 0., 0., 0., 0., 0., 0.],\n",
    "    [0., 0., 0., 0., 1., 0., 0., 1.],\n",
    "    [0., 1., 0., 1., 0., 1., 1., 0.],\n",
    "    [1., 0., 0., 0., 1., 0., 0., 0.],\n",
    "    [1., 0., 0., 0., 1., 0., 0., 0.],\n",
    "    [0., 1., 0., 1., 0., 0., 0., 0.]\n",
    "])\n",
    "\n",
    "word2Ind_ans = {\n",
    "    'Ala': 0, 'END': 1, 'START': 2, 'i': 3, 'kot': 4, 'lubic': 5, 'miec': 6,\n",
    "    'pies': 7}\n",
    "\n",
    "# Test correct word2Ind\n",
    "assert (word2Ind_ans == word2Ind_test), \"Your word2Ind is incorrect:\\nCorrect: {}\\nYours: {}\".format(word2Ind_ans, word2Ind_test)\n",
    "\n",
    "# Test correct M shape\n",
    "assert (M_test.shape == M_test_ans.shape), \"M matrix has incorrect shape.\\nCorrect: {}\\nYours: {}\".format(M_test.shape, M_test_ans.shape)\n",
    "\n",
    "# Test correct M values\n",
    "for w1 in word2Ind_ans.keys():\n",
    "    idx1 = word2Ind_ans[w1]\n",
    "    for w2 in word2Ind_ans.keys():\n",
    "        idx2 = word2Ind_ans[w2]\n",
    "        student = M_test[idx1, idx2]\n",
    "        correct = M_test_ans[idx1, idx2]\n",
    "        if student != correct:\n",
    "            print(\"Correct M:\")\n",
    "            print(M_test_ans)\n",
    "            print(\"Your M: \")\n",
    "            print(M_test)\n",
    "            raise AssertionError(\"Incorrect count at index ({}, {})=({}, {}) in matrix M. Yours has {} but should have {}.\".format(idx1, idx2, w1, w2, student, correct))\n",
    "\n",
    "# Print Success\n",
    "print (\"-\" * 80)\n",
    "print(\"Passed All Tests!\")\n",
    "print (\"-\" * 80)"
   ]
  },
  {
   "cell_type": "markdown",
   "id": "geographic-upper",
   "metadata": {},
   "source": [
    "## c)"
   ]
  },
  {
   "cell_type": "code",
   "execution_count": 6,
   "id": "pending-norway",
   "metadata": {},
   "outputs": [
    {
     "name": "stdout",
     "output_type": "stream",
     "text": [
      "Running Truncated SVD over 8 words...\n",
      "Done.\n",
      "--------------------------------------------------------------------------------\n",
      "Passed All Tests!\n",
      "--------------------------------------------------------------------------------\n"
     ]
    }
   ],
   "source": [
    "# Define toy corpus and run student code\n",
    "test_corpus = [\"START Ala miec kot i pies END\".split(\" \"),\n",
    "               \"START Ala lubic kot END\".split(\" \")]  \n",
    "M_test, word2Ind_test = compute_co_occurrence_matrix(test_corpus, window_size=1)\n",
    "M_test_reduced = reduce_to_k_dim(M_test, k=2)\n",
    "\n",
    "# Test proper dimensions\n",
    "assert (M_test_reduced.shape[0] == 8), \"M_reduced has {} rows; should have {}\".format(M_test_reduced.shape[0], 8)\n",
    "assert (M_test_reduced.shape[1] == 2), \"M_reduced has {} columns; should have {}\".format(M_test_reduced.shape[1], 2)\n",
    "\n",
    "# Print Success\n",
    "print (\"-\" * 80)\n",
    "print(\"Passed All Tests!\")\n",
    "print (\"-\" * 80)"
   ]
  },
  {
   "cell_type": "markdown",
   "id": "spanish-morocco",
   "metadata": {},
   "source": [
    "## d)"
   ]
  },
  {
   "cell_type": "code",
   "execution_count": 7,
   "id": "illegal-leader",
   "metadata": {},
   "outputs": [
    {
     "name": "stdout",
     "output_type": "stream",
     "text": [
      "--------------------------------------------------------------------------------\n",
      "Outputted Plot:\n"
     ]
    },
    {
     "data": {
      "image/png": "[encoded data removed]",
      "text/plain": [
       "<Figure size 432x288 with 1 Axes>"
      ]
     },
     "metadata": {},
     "output_type": "display_data"
    },
    {
     "name": "stdout",
     "output_type": "stream",
     "text": [
      "--------------------------------------------------------------------------------\n"
     ]
    }
   ],
   "source": [
    "print (\"-\" * 80)\n",
    "print (\"Outputted Plot:\")\n",
    "\n",
    "M_reduced_plot_test = np.array([[1, 1], [-1, -1], [1, -1], [-1, 1], [0, 0]])\n",
    "word2Ind_plot_test = {\n",
    "    'test1': 0, 'test2': 1, 'test3': 2, 'test4': 3, 'test5': 4}\n",
    "words = ['test1', 'test2', 'test3', 'test4', 'test5']\n",
    "plot_embeddings(M_reduced_plot_test, word2Ind_plot_test, words)\n",
    "\n",
    "print (\"-\" * 80)"
   ]
  },
  {
   "cell_type": "markdown",
   "id": "electronic-french",
   "metadata": {},
   "source": [
    "## e)"
   ]
  },
  {
   "cell_type": "code",
   "execution_count": 8,
   "id": "fewer-ukraine",
   "metadata": {},
   "outputs": [
    {
     "name": "stdout",
     "output_type": "stream",
     "text": [
      "Running Truncated SVD over 22957 words...\n",
      "Done.\n"
     ]
    },
    {
     "data": {
      "image/png": "[encoded data removed]",
      "text/plain": [
       "<Figure size 432x288 with 1 Axes>"
      ]
     },
     "metadata": {},
     "output_type": "display_data"
    }
   ],
   "source": [
    "pl_corpus = read_corpus_pl()\n",
    "words = [\n",
    "    \"sztuka\", \"śpiewaczka\", \"literatura\", \"poeta\", \"obywatel\"]\n",
    "\n",
    "plot_normalized(pl_corpus, words)"
   ]
  },
  {
   "cell_type": "markdown",
   "id": "mighty-namibia",
   "metadata": {},
   "source": [
    "Two clusters are formed. One is made up of a single word sztuka and the other is made up of the rest of the words.\n",
    "Words sztuka and literatura are related to each other as literatura is considered an example of sztuka (hyperonym)."
   ]
  },
  {
   "cell_type": "code",
   "execution_count": 9,
   "id": "effective-custom",
   "metadata": {},
   "outputs": [
    {
     "name": "stdout",
     "output_type": "stream",
     "text": [
      "Running Truncated SVD over 22957 words...\n",
      "Done.\n"
     ]
    },
    {
     "data": {
      "image/png": "[encoded data removed]",
      "text/plain": [
       "<Figure size 432x288 with 1 Axes>"
      ]
     },
     "metadata": {},
     "output_type": "display_data"
    }
   ],
   "source": [
    "plot_unnormalized(pl_corpus, words)"
   ]
  },
  {
   "cell_type": "markdown",
   "id": "daily-ribbon",
   "metadata": {},
   "source": [
    "Three clusters are formed. Two of the words sztuka and literature, and the third of the rest of the words.\n",
    "As above, words sztuka and literatura are related to a relationship of superiority.\n",
    "Normalization shows that the word literatura can be distinguished from the rest of the words."
   ]
  },
  {
   "cell_type": "markdown",
   "id": "tropical-automation",
   "metadata": {},
   "source": [
    "# Section 2"
   ]
  },
  {
   "cell_type": "code",
   "execution_count": 10,
   "id": "unavailable-stereo",
   "metadata": {},
   "outputs": [],
   "source": [
    "from practical_1 import get_matrix_of_vectors"
   ]
  },
  {
   "cell_type": "code",
   "execution_count": 11,
   "id": "digital-hanging",
   "metadata": {},
   "outputs": [],
   "source": [
    "wv_from_bin_pl = KeyedVectors.load(\"word2vec/word2vec_100_3_polish.bin\")"
   ]
  },
  {
   "cell_type": "markdown",
   "id": "similar-deadline",
   "metadata": {},
   "source": [
    "## a)"
   ]
  },
  {
   "cell_type": "code",
   "execution_count": 12,
   "id": "authorized-grove",
   "metadata": {},
   "outputs": [
    {
     "name": "stdout",
     "output_type": "stream",
     "text": [
      "Shuffling words ...\n",
      "Putting 10000 words into word2Ind and matrix M...\n",
      "Done.\n",
      "Running Truncated SVD over 10005 words...\n",
      "Done.\n"
     ]
    },
    {
     "data": {
      "image/png": "[encoded data removed]",
      "text/plain": [
       "<Figure size 432x288 with 1 Axes>"
      ]
     },
     "metadata": {},
     "output_type": "display_data"
    }
   ],
   "source": [
    "M, word2Ind = get_matrix_of_vectors(wv_from_bin_pl, words)\n",
    "M_reduced = reduce_to_k_dim(M, k=2)\n",
    "\n",
    "plot_embeddings(M_reduced, word2Ind, words)"
   ]
  },
  {
   "cell_type": "markdown",
   "id": "weighted-living",
   "metadata": {},
   "source": [
    "Clusters of single words are formed, but it may be tempting to say that the words literatura and obywatel are contained in the same cluster.\n",
    "As above, sztuka and literatura are related to a relationship of superiority.\n",
    "Words śpiewaczka and poeta are, in turn, examples of the portrayal of art.\n",
    "In this case, the words are clearly delineated.\n",
    "Personally, on the basis of these examples only, I do not see any obvious dependencies, except that category of people are linearly separable from the category of creations of people."
   ]
  },
  {
   "cell_type": "markdown",
   "id": "essential-compatibility",
   "metadata": {},
   "source": [
    "## b)"
   ]
  },
  {
   "cell_type": "code",
   "execution_count": 14,
   "id": "checked-working",
   "metadata": {},
   "outputs": [
    {
     "name": "stderr",
     "output_type": "stream",
     "text": [
      "/home/bartekkrzepkowski/.virtualenvs/tldl/lib/python3.8/site-packages/gensim/models/keyedvectors.py:783: RuntimeWarning: invalid value encountered in true_divide\n",
      "  dists = dot(self.vectors[clip_start:clip_end], mean) / self.norms[clip_start:clip_end]\n"
     ]
    },
    {
     "data": {
      "text/plain": [
       "[('teza', 0.8549568057060242),\n",
       " ('hipoteza', 0.8321427702903748),\n",
       " ('stwierdzenie', 0.8162620663642883),\n",
       " ('przypuszczenie', 0.7883314490318298),\n",
       " ('domniemanie', 0.7763071656227112),\n",
       " ('uogólnienie', 0.7716750502586365),\n",
       " ('aksjomat', 0.7690795063972473),\n",
       " ('teoria', 0.7676085829734802),\n",
       " ('pogląd', 0.7642797827720642),\n",
       " ('argument', 0.7630875706672668)]"
      ]
     },
     "execution_count": 14,
     "metadata": {},
     "output_type": "execute_result"
    }
   ],
   "source": [
    "wv_from_bin_pl.most_similar(\"twierdzenie\")"
   ]
  },
  {
   "cell_type": "markdown",
   "id": "committed-holiday",
   "metadata": {},
   "source": [
    "We have here aksjomat, argument (base of inference), uogólnienie, pogląd (result of inference). "
   ]
  },
  {
   "cell_type": "code",
   "execution_count": 15,
   "id": "ecological-delight",
   "metadata": {},
   "outputs": [
    {
     "data": {
      "text/plain": [
       "[('zameczek', 0.8462140560150146),\n",
       " ('pałac', 0.7984483242034912),\n",
       " ('zamczysko', 0.785627007484436),\n",
       " ('forteca', 0.7682814002037048),\n",
       " ('grodź', 0.7508893609046936),\n",
       " ('warownia', 0.7442566156387329),\n",
       " ('gród', 0.736450731754303),\n",
       " ('donżon', 0.7312632203102112),\n",
       " ('dworzyszcze', 0.7277812957763672),\n",
       " ('cytadela', 0.7103342413902283)]"
      ]
     },
     "execution_count": 15,
     "metadata": {},
     "output_type": "execute_result"
    }
   ],
   "source": [
    "wv_from_bin_pl.most_similar(\"zamek\")"
   ]
  },
  {
   "cell_type": "markdown",
   "id": "according-smile",
   "metadata": {},
   "source": [
    "We have here pałac (object), grodź (place)."
   ]
  },
  {
   "cell_type": "code",
   "execution_count": 16,
   "id": "false-waters",
   "metadata": {},
   "outputs": [
    {
     "data": {
      "text/plain": [
       "[('banka', 0.8007293343544006),\n",
       " ('przedsiębiorstwo', 0.7445671558380127),\n",
       " ('bankowy', 0.7276203036308289),\n",
       " ('citibanku', 0.7176083922386169),\n",
       " ('bgk', 0.7032768130302429),\n",
       " ('firma', 0.6960212588310242),\n",
       " ('kasa', 0.6915611028671265),\n",
       " ('koncern', 0.6907871961593628),\n",
       " ('holding', 0.6835991144180298),\n",
       " ('spółka', 0.6814464926719666)]"
      ]
     },
     "execution_count": 16,
     "metadata": {},
     "output_type": "execute_result"
    }
   ],
   "source": [
    "wv_from_bin_pl.most_similar(\"bank\")"
   ]
  },
  {
   "cell_type": "markdown",
   "id": "resident-apache",
   "metadata": {},
   "source": [
    "We have here firma (institution), kasa (place)."
   ]
  },
  {
   "cell_type": "code",
   "execution_count": 17,
   "id": "unknown-linux",
   "metadata": {},
   "outputs": [
    {
     "data": {
      "text/plain": [
       "[('samiec', 0.7817413210868835),\n",
       " ('samica', 0.7275031805038452),\n",
       " ('mężczyzna', 0.6902393698692322),\n",
       " ('ssak', 0.6834823489189148),\n",
       " ('zwierzę', 0.6787737011909485),\n",
       " ('indywiduum', 0.6760104894638062),\n",
       " ('gryzoń', 0.6756496429443359),\n",
       " ('gatunek', 0.6698778867721558),\n",
       " ('okaz', 0.6620389223098755),\n",
       " ('drapieżnik', 0.6578028798103333)]"
      ]
     },
     "execution_count": 17,
     "metadata": {},
     "output_type": "execute_result"
    }
   ],
   "source": [
    "wv_from_bin_pl.most_similar(\"osobnik\")"
   ]
  },
  {
   "cell_type": "markdown",
   "id": "cooked-maximum",
   "metadata": {},
   "source": [
    "We have here indywiduum (entity), mężczyzna (part of some taxonomy)."
   ]
  },
  {
   "cell_type": "code",
   "execution_count": 18,
   "id": "subsequent-thomson",
   "metadata": {},
   "outputs": [
    {
     "data": {
      "text/plain": [
       "[('siły', 0.9388737678527832),\n",
       " ('moc', 0.7339487671852112),\n",
       " ('energia', 0.7252694368362427),\n",
       " ('potęga', 0.6890466809272766),\n",
       " ('sil', 0.6847106218338013),\n",
       " ('potencjał', 0.6703965067863464),\n",
       " ('determinacja', 0.6345338821411133),\n",
       " ('wysiłek', 0.625451385974884),\n",
       " ('żywioł', 0.6157348155975342),\n",
       " ('masy', 0.6156232953071594)]"
      ]
     },
     "execution_count": 18,
     "metadata": {},
     "output_type": "execute_result"
    }
   ],
   "source": [
    "wv_from_bin_pl.most_similar(\"siła\")"
   ]
  },
  {
   "cell_type": "markdown",
   "id": "polyphonic-density",
   "metadata": {},
   "source": [
    "We have here potencjał (physical magnitude), żywioł (phenomenon)."
   ]
  },
  {
   "cell_type": "code",
   "execution_count": 19,
   "id": "dedicated-billy",
   "metadata": {},
   "outputs": [
    {
     "data": {
      "text/plain": [
       "[('minus', 0.7601489424705505),\n",
       " ('zerowy', 0.7081139087677002),\n",
       " ('przecinek', 0.6111993193626404),\n",
       " ('minusowy', 0.5990052819252014),\n",
       " ('jedynkowy', 0.5925155282020569),\n",
       " ('wielokrotność', 0.5891561508178711),\n",
       " ('miliparseków', 0.5888294577598572),\n",
       " ('centylion', 0.5673032402992249),\n",
       " ('cyfra', 0.5544325709342957),\n",
       " ('wskaźnik', 0.548725962638855)]"
      ]
     },
     "execution_count": 19,
     "metadata": {},
     "output_type": "execute_result"
    }
   ],
   "source": [
    "wv_from_bin_pl.most_similar(\"zero\")"
   ]
  },
  {
   "cell_type": "markdown",
   "id": "remarkable-damages",
   "metadata": {},
   "source": [
    "We have here zerowy (magnitude), cyfra (representation)."
   ]
  },
  {
   "cell_type": "markdown",
   "id": "ahead-parcel",
   "metadata": {},
   "source": [
    "Many polysemes may not work because of too little resemblance to the word written or because words are rarely used to denote other meanings in similar contexts - some phrases create rare collocations."
   ]
  },
  {
   "cell_type": "markdown",
   "id": "brave-james",
   "metadata": {},
   "source": [
    "## c)"
   ]
  },
  {
   "cell_type": "code",
   "execution_count": 21,
   "id": "comfortable-refund",
   "metadata": {},
   "outputs": [],
   "source": [
    "w1 = 'daleki'\n",
    "w2 = 'odległy'\n",
    "w3 = 'bliski'\n",
    "\n",
    "w1_w2_dist = wv_from_bin_pl.distance(w1, w2)\n",
    "w1_w3_dist = wv_from_bin_pl.distance(w1, w3)"
   ]
  },
  {
   "cell_type": "code",
   "execution_count": 22,
   "id": "confused-clearance",
   "metadata": {},
   "outputs": [
    {
     "name": "stdout",
     "output_type": "stream",
     "text": [
      "Synonyms daleki, odległy have cosine distance: 0.46225959062576294\n",
      "Antonyms daleki, bliski have cosine distance: 0.4220016598701477\n"
     ]
    }
   ],
   "source": [
    "print(\"Synonyms {}, {} have cosine distance: {}\".format(w1, w2, w1_w2_dist))\n",
    "print(\"Antonyms {}, {} have cosine distance: {}\".format(w1, w3, w1_w3_dist))"
   ]
  },
  {
   "cell_type": "markdown",
   "id": "electoral-textbook",
   "metadata": {},
   "source": [
    "I suppose that word odległy is used less frequently than word daleki, and therefore its location may not be as well argued in the feature space as word daleki."
   ]
  },
  {
   "cell_type": "markdown",
   "id": "strong-accordance",
   "metadata": {},
   "source": [
    "## d)"
   ]
  },
  {
   "cell_type": "code",
   "execution_count": 36,
   "id": "agricultural-tragedy",
   "metadata": {},
   "outputs": [],
   "source": [
    "import pprint"
   ]
  },
  {
   "cell_type": "markdown",
   "id": "faced-receiver",
   "metadata": {},
   "source": [
    "syn : mężczyzna :: córka : kobieta"
   ]
  },
  {
   "cell_type": "code",
   "execution_count": 25,
   "id": "greenhouse-integral",
   "metadata": {},
   "outputs": [
    {
     "name": "stdout",
     "output_type": "stream",
     "text": [
      "[('córka', 0.6928777098655701),\n",
      " ('dziecko', 0.6763085722923279),\n",
      " ('matka', 0.6552439332008362),\n",
      " ('żona', 0.6547046899795532),\n",
      " ('siostra', 0.6358523368835449),\n",
      " ('mąż', 0.6058387160301208),\n",
      " ('dziewczę', 0.6008315086364746),\n",
      " ('rodzic', 0.5781418681144714),\n",
      " ('ojciec', 0.5779308676719666),\n",
      " ('rodzeństwo', 0.5768202543258667)]\n"
     ]
    },
    {
     "name": "stderr",
     "output_type": "stream",
     "text": [
      "/home/bartekkrzepkowski/.virtualenvs/tldl/lib/python3.8/site-packages/gensim/models/keyedvectors.py:783: RuntimeWarning: invalid value encountered in true_divide\n",
      "  dists = dot(self.vectors[clip_start:clip_end], mean) / self.norms[clip_start:clip_end]\n"
     ]
    }
   ],
   "source": [
    "pprint.pprint(wv_from_bin_pl.most_similar(\n",
    "    positive=[\"syn\", \"kobieta\"], negative=[\"mezczyzna\"]))"
   ]
  },
  {
   "cell_type": "markdown",
   "id": "unknown-consumption",
   "metadata": {},
   "source": [
    "pociąg : wagon :: ręka : dłoń"
   ]
  },
  {
   "cell_type": "code",
   "execution_count": 37,
   "id": "referenced-category",
   "metadata": {},
   "outputs": [
    {
     "name": "stdout",
     "output_type": "stream",
     "text": [
      "[('dłoń', 0.785654604434967),\n",
      " ('ramię', 0.7315312027931213),\n",
      " ('rączka', 0.7312504649162292),\n",
      " ('łokieć', 0.7005126476287842),\n",
      " ('palce', 0.6956580281257629),\n",
      " ('noga', 0.681489884853363),\n",
      " ('oburącz', 0.6801837086677551),\n",
      " ('uchwyt', 0.6611544489860535),\n",
      " ('wałek', 0.6610097885131836),\n",
      " ('łapa', 0.6568883657455444)]\n"
     ]
    }
   ],
   "source": [
    "pprint.pprint(wv_from_bin_pl.most_similar(\n",
    "    positive=[\"ręka\", \"wagon\"], negative=[\"pociąg\"]))"
   ]
  },
  {
   "cell_type": "markdown",
   "id": "subjective-rainbow",
   "metadata": {},
   "source": [
    "We have a part-to-whole ratio here."
   ]
  },
  {
   "cell_type": "markdown",
   "id": "standing-chart",
   "metadata": {},
   "source": [
    "## e)"
   ]
  },
  {
   "cell_type": "markdown",
   "id": "suspected-toronto",
   "metadata": {},
   "source": [
    "prawda : jeden :: fałsz : zero"
   ]
  },
  {
   "cell_type": "code",
   "execution_count": 38,
   "id": "irish-worcester",
   "metadata": {},
   "outputs": [
    {
     "name": "stdout",
     "output_type": "stream",
     "text": [
      "[('jedno', 0.5667946338653564),\n",
      " ('jednać', 0.5502198934555054),\n",
      " ('dwa', 0.5317965745925903),\n",
      " ('trzy', 0.5205088257789612),\n",
      " ('pojedynczy', 0.5073424577713013),\n",
      " ('kilka', 0.49279817938804626),\n",
      " ('cztery', 0.4857700765132904),\n",
      " ('drugi', 0.4839387834072113),\n",
      " ('uderzefi', 0.45493456721305847),\n",
      " ('którykolwiek', 0.4510669708251953)]\n"
     ]
    }
   ],
   "source": [
    "pprint.pprint(wv_from_bin_pl.most_similar(\n",
    "    positive=['jeden', \"fałsz\"], negative=[\"prawda\"]))"
   ]
  },
  {
   "cell_type": "markdown",
   "id": "appointed-deviation",
   "metadata": {},
   "source": [
    "with regard to the model: b = jedno"
   ]
  },
  {
   "cell_type": "markdown",
   "id": "modified-network",
   "metadata": {},
   "source": [
    "drugi : przedostatni :: pierwszy : ostatni"
   ]
  },
  {
   "cell_type": "code",
   "execution_count": 39,
   "id": "decreased-turner",
   "metadata": {},
   "outputs": [
    {
     "name": "stdout",
     "output_type": "stream",
     "text": [
      "[('pierwsze', 0.6314462423324585),\n",
      " ('jedenasty', 0.6205568313598633),\n",
      " ('ostatni', 0.6193532943725586),\n",
      " ('wszym', 0.6074247360229492),\n",
      " ('piewszym', 0.6067755818367004),\n",
      " ('piąty', 0.5967206954956055),\n",
      " ('ósmy', 0.595788300037384),\n",
      " ('dziesiąty', 0.5953986048698425),\n",
      " ('czwarty', 0.5912323594093323),\n",
      " ('dwunasty', 0.581502377986908)]\n"
     ]
    }
   ],
   "source": [
    "pprint.pprint(wv_from_bin_pl.most_similar(\n",
    "    positive=[\"pierwszy\", \"przedostatni\"], negative=[\"drugi\"]))"
   ]
  },
  {
   "cell_type": "markdown",
   "id": "weekly-restriction",
   "metadata": {},
   "source": [
    "with regard to the model: b = pierwsze, but ostatni is at third place"
   ]
  },
  {
   "cell_type": "markdown",
   "id": "acting-skating",
   "metadata": {},
   "source": [
    "## f)"
   ]
  },
  {
   "cell_type": "code",
   "execution_count": 40,
   "id": "established-minister",
   "metadata": {},
   "outputs": [
    {
     "name": "stdout",
     "output_type": "stream",
     "text": [
      "[('szefowa', 0.7804161906242371),\n",
      " ('dyrektor', 0.7297706604003906),\n",
      " ('wicedyrektor', 0.7045008540153503),\n",
      " ('pełnomocnik', 0.6774820685386658),\n",
      " ('kierownik', 0.6725601553916931),\n",
      " ('kierowniczka', 0.6669354438781738),\n",
      " ('szefostwo', 0.6597798466682434),\n",
      " ('inspektor', 0.6581058502197266),\n",
      " ('sekretarz', 0.651980996131897),\n",
      " ('konsultant', 0.643165647983551)]\n"
     ]
    }
   ],
   "source": [
    "pprint.pprint(wv_from_bin_pl.most_similar(\n",
    "    positive=['kobieta', 'szef'], negative=['mężczyzna']))"
   ]
  },
  {
   "cell_type": "markdown",
   "id": "better-hollywood",
   "metadata": {},
   "source": [
    "In the first, the highest analogy is correct, in the following suggestions I would not accept the wicedyrektor. The masculine form of nouns can also be a problem, in some cases where some might believe that the form here should be feminine."
   ]
  },
  {
   "cell_type": "code",
   "execution_count": 41,
   "id": "compound-drilling",
   "metadata": {},
   "outputs": [
    {
     "name": "stdout",
     "output_type": "stream",
     "text": [
      "[('wiceprezes', 0.8360482454299927),\n",
      " ('przewodniczący', 0.7715734243392944),\n",
      " ('wiceprzewodniczący', 0.7210662961006165),\n",
      " ('dyrektor', 0.7132858633995056),\n",
      " ('sekretarz', 0.6834158897399902),\n",
      " ('prokurent', 0.6543394923210144),\n",
      " ('szef', 0.6500486135482788),\n",
      " ('zastępca', 0.6431276798248291),\n",
      " ('skarbnik', 0.6402174234390259),\n",
      " ('wiceszef', 0.6378557682037354)]\n"
     ]
    }
   ],
   "source": [
    "pprint.pprint(wv_from_bin_pl.most_similar(\n",
    "    positive=['mężczyzna', 'prezes'], negative=['kobieta']))"
   ]
  },
  {
   "cell_type": "markdown",
   "id": "serious-violation",
   "metadata": {},
   "source": [
    "In the second, the highest analogy could be hailed as iconoclastic. However, word przewodniczący or dyrektor seem to be an acceptable analogy."
   ]
  },
  {
   "cell_type": "markdown",
   "id": "mature-microphone",
   "metadata": {},
   "source": [
    "## g)"
   ]
  },
  {
   "cell_type": "markdown",
   "id": "increasing-ecuador",
   "metadata": {},
   "source": [
    "mężczyzna : żołnierz :: kobieta : jeniec"
   ]
  },
  {
   "cell_type": "code",
   "execution_count": 42,
   "id": "adjusted-luxury",
   "metadata": {},
   "outputs": [
    {
     "name": "stdout",
     "output_type": "stream",
     "text": [
      "[('jeniec', 0.7389187216758728),\n",
      " ('nierzy', 0.7114187479019165),\n",
      " ('partyzant', 0.7081775069236755),\n",
      " ('armia', 0.6831960082054138),\n",
      " ('legionista', 0.6780228614807129),\n",
      " ('kozak', 0.6712470054626465),\n",
      " ('konnica', 0.661159873008728),\n",
      " ('wojsko', 0.6555836200714111),\n",
      " ('kawalerzysta', 0.6523666381835938),\n",
      " ('najemnik', 0.6501129269599915)]\n"
     ]
    }
   ],
   "source": [
    "pprint.pprint(wv_from_bin_pl.most_similar(\n",
    "    positive=['kobieta', 'żołnierz'], negative=['mężczyzna']))"
   ]
  },
  {
   "cell_type": "markdown",
   "id": "macro-chain",
   "metadata": {},
   "source": [
    "While the soldier is a predominantly male profession, this analogy is highly inappropriate."
   ]
  },
  {
   "cell_type": "markdown",
   "id": "honest-directive",
   "metadata": {},
   "source": [
    "polak : praca :: włoch : nauka"
   ]
  },
  {
   "cell_type": "code",
   "execution_count": 43,
   "id": "maritime-namibia",
   "metadata": {},
   "outputs": [
    {
     "name": "stdout",
     "output_type": "stream",
     "text": [
      "[('pracownik', 0.5494521856307983),\n",
      " ('pracv', 0.5423469543457031),\n",
      " ('wychowanie', 0.5351208448410034),\n",
      " ('działalność', 0.5266505479812622),\n",
      " ('nauczycielstwo', 0.5124801397323608),\n",
      " ('samokrytyka', 0.5109484791755676),\n",
      " ('ankieta', 0.5104095339775085),\n",
      " ('robotnik', 0.5045477747917175),\n",
      " ('ociemniały', 0.5045210123062134),\n",
      " ('fö', 0.5024222731590271)]\n"
     ]
    }
   ],
   "source": [
    "pprint.pprint(wv_from_bin_pl.most_similar(\n",
    "    positive=['polak', 'praca'], negative=['włoch']))"
   ]
  },
  {
   "cell_type": "code",
   "execution_count": 44,
   "id": "charged-plant",
   "metadata": {},
   "outputs": [
    {
     "name": "stdout",
     "output_type": "stream",
     "text": [
      "[('studia', 0.5339575409889221),\n",
      " ('zajęcia', 0.5178396105766296),\n",
      " ('rekonwalescencja', 0.517360508441925),\n",
      " ('opalanie', 0.5110158920288086),\n",
      " ('kuracja', 0.4879070520401001),\n",
      " ('podróż', 0.47431042790412903),\n",
      " ('haftowanie', 0.4733882546424866),\n",
      " ('prace', 0.4729936420917511),\n",
      " ('reperacja', 0.4706401824951172),\n",
      " ('podrożyć', 0.46828797459602356)]\n"
     ]
    }
   ],
   "source": [
    "pprint.pprint(wv_from_bin_pl.most_similar(\n",
    "    positive=['włoch', 'praca'], negative=['polak']))"
   ]
  },
  {
   "cell_type": "markdown",
   "id": "acting-nickname",
   "metadata": {},
   "source": [
    "You can see the national bias here. When we equate a Pole with work, then an Italian with studies, but the opposite is true."
   ]
  },
  {
   "cell_type": "markdown",
   "id": "ignored-vintage",
   "metadata": {},
   "source": [
    "## h)"
   ]
  },
  {
   "cell_type": "markdown",
   "id": "complimentary-provider",
   "metadata": {},
   "source": [
    "The reason may be that certain expressions are used more often than others in the training set. For example, the profession of a soldier is more often mentioned in the context of a man, and education in the context of wealthier countries."
   ]
  },
  {
   "cell_type": "markdown",
   "id": "numeric-release",
   "metadata": {},
   "source": [
    "# Section 3"
   ]
  },
  {
   "cell_type": "code",
   "execution_count": 26,
   "id": "raising-agency",
   "metadata": {},
   "outputs": [
    {
     "name": "stdout",
     "output_type": "stream",
     "text": [
      "Loaded vocab size 3000000\n"
     ]
    }
   ],
   "source": [
    "def load_word2vec():\n",
    "    \"\"\" Load Word2Vec Vectors\n",
    "        Return:\n",
    "            wv_from_bin: All 3 million embeddings, each lengh 300\n",
    "    \"\"\"\n",
    "    import gensim.downloader as api\n",
    "    wv_from_bin = api.load(\"word2vec-google-news-300\")\n",
    "    vocab = list(wv_from_bin.key_to_index.keys())\n",
    "    print(\"Loaded vocab size %i\" % len(vocab))\n",
    "    return wv_from_bin\n",
    "\n",
    "wv_from_bin = load_word2vec()"
   ]
  },
  {
   "cell_type": "markdown",
   "id": "deluxe-penalty",
   "metadata": {},
   "source": [
    "## b)"
   ]
  },
  {
   "cell_type": "code",
   "execution_count": 27,
   "id": "secret-rider",
   "metadata": {},
   "outputs": [
    {
     "data": {
      "text/plain": [
       "[('propositions', 0.6777419447898865),\n",
       " ('propostion', 0.4960918128490448),\n",
       " ('idea', 0.4891168475151062),\n",
       " ('concept', 0.4660651385784149),\n",
       " ('premise', 0.45228350162506104),\n",
       " ('notion', 0.4463728964328766),\n",
       " ('proposal', 0.4458281397819519),\n",
       " ('value_proposition', 0.4440843462944031),\n",
       " ('argument', 0.4432620406150818),\n",
       " ('attractive_proposition', 0.4134068787097931)]"
      ]
     },
     "execution_count": 27,
     "metadata": {},
     "output_type": "execute_result"
    }
   ],
   "source": [
    "wv_from_bin.most_similar(\"proposition\")"
   ]
  },
  {
   "cell_type": "markdown",
   "id": "unauthorized-senate",
   "metadata": {},
   "source": [
    "We have here premise (base of inference), proposal (result of inference), similar to the observations in the case of the Polish language."
   ]
  },
  {
   "cell_type": "code",
   "execution_count": 28,
   "id": "human-native",
   "metadata": {},
   "outputs": [
    {
     "data": {
      "text/plain": [
       "[('castles', 0.7333530783653259),\n",
       " ('medieval_castle', 0.683101236820221),\n",
       " ('manor_house', 0.6663694381713867),\n",
       " ('palace', 0.6421201229095459),\n",
       " ('Dracula_castle', 0.6233095526695251),\n",
       " ('manor', 0.6158249378204346),\n",
       " ('medieval_fortress', 0.6064208745956421),\n",
       " ('mansion', 0.6051708459854126),\n",
       " ('Viscri', 0.6032644510269165),\n",
       " ('fairytale_castle', 0.6003632545471191)]"
      ]
     },
     "execution_count": 28,
     "metadata": {},
     "output_type": "execute_result"
    }
   ],
   "source": [
    "wv_from_bin.most_similar(\"castle\")"
   ]
  },
  {
   "cell_type": "markdown",
   "id": "hidden-service",
   "metadata": {},
   "source": [
    "In this case polysemic does not work because of the choice of the translation."
   ]
  },
  {
   "cell_type": "code",
   "execution_count": 30,
   "id": "brief-gross",
   "metadata": {},
   "outputs": [
    {
     "data": {
      "text/plain": [
       "[('banks', 0.7440759539604187),\n",
       " ('banking', 0.690161406993866),\n",
       " ('Bank', 0.6698698401451111),\n",
       " ('lender', 0.6342284679412842),\n",
       " ('banker', 0.6092953085899353),\n",
       " ('depositors', 0.6031531691551208),\n",
       " ('mortgage_lender', 0.5797975659370422),\n",
       " ('depositor', 0.5716427564620972),\n",
       " ('BofA', 0.5714625120162964),\n",
       " ('Citibank', 0.5589520335197449)]"
      ]
     },
     "execution_count": 30,
     "metadata": {},
     "output_type": "execute_result"
    }
   ],
   "source": [
    "wv_from_bin.most_similar(\"bank\")"
   ]
  },
  {
   "cell_type": "markdown",
   "id": "exclusive-paraguay",
   "metadata": {},
   "source": [
    "We have here banker, lender, depositor, mortgage_lender, so a person associated with the institution than the institution itself, as was the case with the Polish language."
   ]
  },
  {
   "cell_type": "code",
   "execution_count": 63,
   "id": "patient-sunset",
   "metadata": {},
   "outputs": [
    {
     "data": {
      "text/plain": [
       "[('specimens', 0.8108956217765808),\n",
       " ('SWAN_Repository', 0.5859660506248474),\n",
       " ('Routine_urine', 0.5553357005119324),\n",
       " ('holotype', 0.5519661903381348),\n",
       " ('Mesonychoteuthis_hamiltoni', 0.5518268942832947),\n",
       " ('ichthyosaur', 0.5502352714538574),\n",
       " ('Specimens', 0.536460280418396),\n",
       " ('coprolite', 0.5309837460517883),\n",
       " ('gigantea', 0.5301076769828796),\n",
       " ('trilobite', 0.5263841152191162)]"
      ]
     },
     "execution_count": 63,
     "metadata": {},
     "output_type": "execute_result"
    }
   ],
   "source": [
    "wv_from_bin.most_similar(\"specimen\")"
   ]
  },
  {
   "cell_type": "markdown",
   "id": "mineral-grace",
   "metadata": {},
   "source": [
    "In this case, the selected translation refers to the representatives of the selected taxonomy."
   ]
  },
  {
   "cell_type": "code",
   "execution_count": 83,
   "id": "developing-bachelor",
   "metadata": {},
   "outputs": [
    {
     "data": {
      "text/plain": [
       "[('forces', 0.5195289254188538),\n",
       " ('Faulcon_resigned', 0.4617016315460205),\n",
       " ('Mohammed_Majah', 0.42029979825019836),\n",
       " ('Nato_Isaf', 0.4123663306236267),\n",
       " ('professional_nonpolitical_militarily', 0.4074799418449402),\n",
       " ('subdue', 0.4044072926044464),\n",
       " ('firepower', 0.4041649401187897),\n",
       " ('army', 0.4025460183620453),\n",
       " ('peacekeeping_force', 0.40173718333244324),\n",
       " ('expeditionary_force', 0.397803395986557)]"
      ]
     },
     "execution_count": 83,
     "metadata": {},
     "output_type": "execute_result"
    }
   ],
   "source": [
    "wv_from_bin.most_similar(\"force\")"
   ]
  },
  {
   "cell_type": "markdown",
   "id": "worst-mobile",
   "metadata": {},
   "source": [
    "As with the word zamek, the specific meaning depends on the selected translation."
   ]
  },
  {
   "cell_type": "code",
   "execution_count": 82,
   "id": "usual-shopping",
   "metadata": {},
   "outputs": [
    {
     "data": {
      "text/plain": [
       "[('cooling_rubidium', 0.5202601552009583),\n",
       " ('N_trig_DuoSense_dual', 0.5016306042671204),\n",
       " ('zilch', 0.47530174255371094),\n",
       " ('Zuccotti_Park_adjacent', 0.47465378046035767),\n",
       " ('Zero', 0.4705132246017456),\n",
       " ('minus', 0.4661273658275604),\n",
       " ('ZERO', 0.46135392785072327),\n",
       " ('voltage_switching_ZVS', 0.4561628997325897),\n",
       " ('runway_incursions_Babbitt', 0.4523276686668396),\n",
       " ('low', 0.45149368047714233)]"
      ]
     },
     "execution_count": 82,
     "metadata": {},
     "output_type": "execute_result"
    }
   ],
   "source": [
    "wv_from_bin.most_similar(\"zero\")"
   ]
  },
  {
   "cell_type": "markdown",
   "id": "rural-daughter",
   "metadata": {},
   "source": [
    "In this case we are referring to the order scale, and we are referring to chilling."
   ]
  },
  {
   "cell_type": "markdown",
   "id": "backed-secretariat",
   "metadata": {},
   "source": [
    "## c)"
   ]
  },
  {
   "cell_type": "code",
   "execution_count": 67,
   "id": "abandoned-parts",
   "metadata": {},
   "outputs": [],
   "source": [
    "w1 = 'far'\n",
    "w2 = 'distant'\n",
    "w3 = 'close'\n",
    "\n",
    "w1_w2_dist = wv_from_bin.distance(w1, w2)\n",
    "w1_w3_dist = wv_from_bin.distance(w1, w3)"
   ]
  },
  {
   "cell_type": "code",
   "execution_count": 68,
   "id": "overall-easter",
   "metadata": {},
   "outputs": [
    {
     "name": "stdout",
     "output_type": "stream",
     "text": [
      "Synonyms far, distant have cosine distance: 0.7037246823310852\n",
      "Antonyms far, close have cosine distance: 0.7440123558044434\n"
     ]
    }
   ],
   "source": [
    "print(\"Synonyms {}, {} have cosine distance: {}\".format(w1, w2, w1_w2_dist))\n",
    "print(\"Antonyms {}, {} have cosine distance: {}\".format(w1, w3, w1_w3_dist))"
   ]
  },
  {
   "cell_type": "markdown",
   "id": "elegant-thesaurus",
   "metadata": {},
   "source": [
    "There is no relationship in the case of English equivalents."
   ]
  },
  {
   "cell_type": "markdown",
   "id": "conditional-vacuum",
   "metadata": {},
   "source": [
    "## d)"
   ]
  },
  {
   "cell_type": "markdown",
   "id": "small-queen",
   "metadata": {},
   "source": [
    "son : man :: daughter : woman"
   ]
  },
  {
   "cell_type": "code",
   "execution_count": 69,
   "id": "alien-segment",
   "metadata": {},
   "outputs": [
    {
     "name": "stdout",
     "output_type": "stream",
     "text": [
      "[('daughter', 0.8796941041946411),\n",
      " ('mother', 0.8246030211448669),\n",
      " ('niece', 0.7625203132629395),\n",
      " ('husband', 0.739037275314331),\n",
      " ('granddaughter', 0.7366384863853455),\n",
      " ('eldest_daughter', 0.7307103872299194),\n",
      " ('daughters', 0.7241971492767334),\n",
      " ('father', 0.7208905816078186),\n",
      " ('sister', 0.697901725769043),\n",
      " ('grandson', 0.6924970746040344)]\n"
     ]
    }
   ],
   "source": [
    "pprint.pprint(wv_from_bin.most_similar(\n",
    "    positive=[\"son\", \"woman\"], negative=[\"man\"]))"
   ]
  },
  {
   "cell_type": "markdown",
   "id": "broke-hearts",
   "metadata": {},
   "source": [
    "Same analogy occures."
   ]
  },
  {
   "cell_type": "markdown",
   "id": "collectible-disney",
   "metadata": {},
   "source": [
    "train : carriage :: arm : hand"
   ]
  },
  {
   "cell_type": "code",
   "execution_count": 74,
   "id": "instrumental-recall",
   "metadata": {},
   "outputs": [
    {
     "name": "stdout",
     "output_type": "stream",
     "text": [
      "[('telescopic_pole', 0.43332403898239136),\n",
      " ('pinky_fingers', 0.415249764919281),\n",
      " ('appendage', 0.40631693601608276),\n",
      " ('vulcan', 0.4045245349407196),\n",
      " ('dangly_bits', 0.39716246724128723),\n",
      " ('bandaged_stump', 0.39588451385498047),\n",
      " ('sling', 0.39564502239227295),\n",
      " ('ol_gunslinger_connecting', 0.3945610225200653),\n",
      " ('hind_quarters', 0.39425647258758545),\n",
      " ('noggin', 0.3927306532859802)]\n"
     ]
    }
   ],
   "source": [
    "pprint.pprint(wv_from_bin.most_similar(\n",
    "    positive=[\"arm\", \"waggon\"], negative=[\"train\"]))"
   ]
  },
  {
   "cell_type": "markdown",
   "id": "extra-professional",
   "metadata": {},
   "source": [
    "There is no analogy in this case."
   ]
  },
  {
   "cell_type": "markdown",
   "id": "fundamental-relaxation",
   "metadata": {},
   "source": [
    "## e)"
   ]
  },
  {
   "cell_type": "markdown",
   "id": "amended-oxygen",
   "metadata": {},
   "source": [
    "true : one :: false : zero"
   ]
  },
  {
   "cell_type": "code",
   "execution_count": 75,
   "id": "excellent-warner",
   "metadata": {},
   "outputs": [
    {
     "name": "stdout",
     "output_type": "stream",
     "text": [
      "[('five', 0.45687663555145264),\n",
      " ('four', 0.44636452198028564),\n",
      " ('six', 0.44571730494499207),\n",
      " ('three', 0.4432404041290283),\n",
      " ('seven', 0.4423168897628784),\n",
      " ('eight', 0.4236225187778473),\n",
      " ('two', 0.4227715730667114),\n",
      " ('nine', 0.4085020124912262),\n",
      " ('each', 0.3993107080459595),\n",
      " ('another', 0.35616299510002136)]\n"
     ]
    }
   ],
   "source": [
    "pprint.pprint(wv_from_bin.most_similar(\n",
    "    positive=[\"false\", 'one'], negative=[\"true\"]))"
   ]
  },
  {
   "cell_type": "markdown",
   "id": "distributed-pound",
   "metadata": {},
   "source": [
    "Neither does the analogy hold in this case"
   ]
  },
  {
   "cell_type": "markdown",
   "id": "duplicate-school",
   "metadata": {},
   "source": [
    "first : final :: second :: penultimate"
   ]
  },
  {
   "cell_type": "code",
   "execution_count": 76,
   "id": "surgical-feelings",
   "metadata": {},
   "outputs": [
    {
     "name": "stdout",
     "output_type": "stream",
     "text": [
      "[('final', 0.5259937047958374),\n",
      " ('inaugural', 0.4694477915763855),\n",
      " ('Rallye_Automobile_Monte_Carlo', 0.4557393789291382),\n",
      " ('Kensington_Oval_Barbados', 0.44756728410720825),\n",
      " ('highpoint', 0.44389209151268005),\n",
      " ('Hockenheimring_Baden_Württemberg', 0.44274476170539856),\n",
      " ('maiden', 0.4385904371738434),\n",
      " ('quadrennial_mega', 0.4324509799480438),\n",
      " ('Hawkstone_Park', 0.4284977912902832),\n",
      " ('semi_fi_nal', 0.427691251039505)]\n"
     ]
    }
   ],
   "source": [
    "pprint.pprint(wv_from_bin.most_similar(\n",
    "    positive=[\"first\", \"penultimate\"], negative=[\"second\"]))"
   ]
  },
  {
   "cell_type": "markdown",
   "id": "interesting-miracle",
   "metadata": {},
   "source": [
    "There is analogy in this case."
   ]
  },
  {
   "cell_type": "markdown",
   "id": "possible-formula",
   "metadata": {},
   "source": [
    "## f)"
   ]
  },
  {
   "cell_type": "code",
   "execution_count": 78,
   "id": "combined-credit",
   "metadata": {},
   "outputs": [
    {
     "name": "stdout",
     "output_type": "stream",
     "text": [
      "[('bosses', 0.5522644519805908),\n",
      " ('manageress', 0.49151360988616943),\n",
      " ('exec', 0.45940810441970825),\n",
      " ('Manageress', 0.4559843838214874),\n",
      " ('receptionist', 0.4474116563796997),\n",
      " ('Jane_Danson', 0.44480547308921814),\n",
      " ('Fiz_Jennie_McAlpine', 0.4427576959133148),\n",
      " ('Coronation_Street_actress', 0.44275563955307007),\n",
      " ('supremo', 0.4409853219985962),\n",
      " ('coworker', 0.43986251950263977)]\n"
     ]
    }
   ],
   "source": [
    "pprint.pprint(wv_from_bin.most_similar(\n",
    "    positive=['woman', 'boss'], negative=['man']))"
   ]
  },
  {
   "cell_type": "markdown",
   "id": "polished-sector",
   "metadata": {},
   "source": [
    "For some reason, the model refers to the plural, proper nouns, and the word receptionist."
   ]
  },
  {
   "cell_type": "code",
   "execution_count": 80,
   "id": "stunning-moldova",
   "metadata": {},
   "outputs": [
    {
     "name": "stdout",
     "output_type": "stream",
     "text": [
      "[('Chairman', 0.7163518667221069),\n",
      " ('chariman', 0.6484905481338501),\n",
      " ('chairmain', 0.6070235371589661),\n",
      " ('chief_executive', 0.5947784781455994),\n",
      " ('Chariman', 0.5882598757743835),\n",
      " ('chaiman', 0.5767490267753601),\n",
      " ('vicechairman', 0.5463533997535706),\n",
      " ('chairman_emeritus', 0.5410268306732178),\n",
      " ('cochairman', 0.5251522660255432),\n",
      " ('supremo', 0.5208278298377991)]\n"
     ]
    }
   ],
   "source": [
    "pprint.pprint(wv_from_bin.most_similar(\n",
    "    positive=['man', 'chairman'], negative=['woman']))"
   ]
  },
  {
   "cell_type": "markdown",
   "id": "wrapped-quest",
   "metadata": {},
   "source": [
    "In this case, it is difficult to find an English equivalent of the word chairman which distinguishes between the sexes."
   ]
  },
  {
   "cell_type": "markdown",
   "id": "revolutionary-coast",
   "metadata": {},
   "source": [
    "## g)"
   ]
  },
  {
   "cell_type": "code",
   "execution_count": 81,
   "id": "lightweight-registration",
   "metadata": {},
   "outputs": [
    {
     "name": "stdout",
     "output_type": "stream",
     "text": [
      "[('solider', 0.718359112739563),\n",
      " ('serviceman', 0.6742279529571533),\n",
      " ('soldiers', 0.6567003726959229),\n",
      " ('servicemember', 0.5990378260612488),\n",
      " ('airman', 0.587567925453186),\n",
      " ('servicemen', 0.5615009665489197),\n",
      " ('servicewoman', 0.5602388978004456),\n",
      " ('Pfc', 0.5597403049468994),\n",
      " ('Soldier', 0.5545828342437744),\n",
      " ('guardsman', 0.5480968952178955)]\n"
     ]
    }
   ],
   "source": [
    "pprint.pprint(wv_from_bin.most_similar(\n",
    "    positive=['woman', 'soldier'], negative=['man']))"
   ]
  },
  {
   "cell_type": "markdown",
   "id": "transparent-footwear",
   "metadata": {},
   "source": [
    "In this case, there is no word that is as inappropriate as in the analysis of analogues in Polish. In this case, the female equivalent of the word soldier, servicewoman, is only in the second half of the proposal."
   ]
  },
  {
   "cell_type": "markdown",
   "id": "curious-rebel",
   "metadata": {},
   "source": [
    "First of all, it should be noted that the comparison depends on the choice of translating words from one language to another. For example, the word zamek does not have the same polysemic word in English (castle, lock, clasp) as it is in Polish. Additionally, some words in one language do not necessarily line up with others when translated, even though the component words translate correctly. We can translate ten daleki odgłos as that distant noise, but not that far noise. Word embeddings are a reflection of the use of words in a language, so it is natural that they will differ from one language to another because language is inherently linked with entities that use it. It's hard to expect people from different communities to discuss the same issues in the same way."
   ]
  },
  {
   "cell_type": "code",
   "execution_count": null,
   "id": "nuclear-commonwealth",
   "metadata": {},
   "outputs": [],
   "source": []
  }
 ],
 "metadata": {
  "kernelspec": {
   "display_name": "tldl",
   "language": "python",
   "name": "tldl"
  },
  "language_info": {
   "codemirror_mode": {
    "name": "ipython",
    "version": 3
   },
   "file_extension": ".py",
   "mimetype": "text/x-python",
   "name": "python",
   "nbconvert_exporter": "python",
   "pygments_lexer": "ipython3",
   "version": "3.8.10"
  }
 },
 "nbformat": 4,
 "nbformat_minor": 5
}
